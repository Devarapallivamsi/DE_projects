{
 "cells": [
  {
   "cell_type": "code",
   "execution_count": 0,
   "metadata": {
    "application/vnd.databricks.v1+cell": {
     "cellMetadata": {
      "byteLimit": 2048000,
      "rowLimit": 10000
     },
     "inputWidgets": {},
     "nuid": "69425778-3ceb-4ebf-b563-7e5b6ff7feb6",
     "showTitle": false,
     "tableResultSettingsMap": {},
     "title": ""
    }
   },
   "outputs": [
    {
     "output_type": "execute_result",
     "data": {
      "text/plain": [
       "DataFrame[order_num: int, tracking_num: string, pck_recieved_date: date, package_deliver_date: date, status: string, address: string, last_update_timestamp: timestamp]"
      ]
     },
     "execution_count": 24,
     "metadata": {},
     "output_type": "execute_result"
    }
   ],
   "source": [
    "inputFilesDir = '/tmp/stage_zone/'\n",
    "archiveDir = '/tmp/archive_zone/'\n",
    "stageDeltaTable = 'spark_workspace.default.stage_table'\n",
    "from pyspark.sql.types import *\n",
    "from pyspark.sql.functions import *\n",
    "stageDf = spark.read.format('csv').option('header','true').option('inferSchema','true').load(inputFilesDir)\n",
    "stageDf"
   ]
  },
  {
   "cell_type": "code",
   "execution_count": 0,
   "metadata": {
    "application/vnd.databricks.v1+cell": {
     "cellMetadata": {
      "byteLimit": 2048000,
      "rowLimit": 10000
     },
     "inputWidgets": {},
     "nuid": "6d6d0e87-6901-4c86-886f-5c4a112021c2",
     "showTitle": false,
     "tableResultSettingsMap": {},
     "title": ""
    }
   },
   "outputs": [],
   "source": [
    "stageDf2 = stageDf.withColumn('pck_recieved_date',col('pck_recieved_date').cast(DateType()))\n",
    "stageDf2.write.format('delta').mode('overwrite').saveAsTable(stageDeltaTable)"
   ]
  },
  {
   "cell_type": "code",
   "execution_count": 0,
   "metadata": {
    "application/vnd.databricks.v1+cell": {
     "cellMetadata": {
      "byteLimit": 2048000,
      "rowLimit": 10000
     },
     "inputWidgets": {},
     "nuid": "e2138e3a-2a24-4d17-a05b-b5bcac38db3c",
     "showTitle": false,
     "tableResultSettingsMap": {},
     "title": ""
    }
   },
   "outputs": [
    {
     "output_type": "execute_result",
     "data": {
      "text/plain": [
       "True"
      ]
     },
     "execution_count": 28,
     "metadata": {},
     "output_type": "execute_result"
    }
   ],
   "source": [
    "all_inputFiles = dbutils.fs.ls(inputFilesDir)\n",
    "for inputFile in all_inputFiles:\n",
    "    filePath = inputFile.path\n",
    "    destinationPath = archiveDir + filePath.split(\"/\")[-1]\n",
    "dbutils.fs.mv(filePath, destinationPath)\n"
   ]
  }
 ],
 "metadata": {
  "application/vnd.databricks.v1+notebook": {
   "dashboards": [],
   "environmentMetadata": {
    "base_environment": "",
    "client": "1"
   },
   "language": "python",
   "notebookMetadata": {
    "pythonIndentUnit": 4
   },
   "notebookName": "stage_delta_archive_load",
   "widgets": {}
  },
  "language_info": {
   "name": "python"
  }
 },
 "nbformat": 4,
 "nbformat_minor": 0
}
