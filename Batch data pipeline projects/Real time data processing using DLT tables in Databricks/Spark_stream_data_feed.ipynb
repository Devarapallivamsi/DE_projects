{
 "cells": [
  {
   "cell_type": "code",
   "execution_count": 0,
   "metadata": {
    "application/vnd.databricks.v1+cell": {
     "cellMetadata": {
      "byteLimit": 2048000,
      "rowLimit": 10000
     },
     "inputWidgets": {},
     "nuid": "47816e73-4c0e-4423-8b33-94e4793a8305",
     "showTitle": false,
     "tableResultSettingsMap": {},
     "title": ""
    }
   },
   "outputs": [],
   "source": [
    "diag_map = spark.read.format('csv').option('header','true').option('inferSchema','true').load('/tmp/diagnosis_mapping.csv')\n",
    "\n",
    "diag_map.write.format('delta').mode('overwrite').saveAsTable('default.src_raw_diag_map')"
   ]
  },
  {
   "cell_type": "code",
   "execution_count": 0,
   "metadata": {
    "application/vnd.databricks.v1+cell": {
     "cellMetadata": {
      "byteLimit": 2048000,
      "rowLimit": 10000
     },
     "inputWidgets": {},
     "nuid": "5aacba01-da59-4221-a927-257a91cbfdd9",
     "showTitle": false,
     "tableResultSettingsMap": {},
     "title": ""
    }
   },
   "outputs": [],
   "source": [
    "path1= '/tmp/patients_daily_file_1_2024.csv'\n",
    "path2= '/tmp/patients_daily_file_2_2024.csv'\n",
    "path3= '/tmp/patients_daily_file_3_2024.csv'\n",
    "\n",
    "daily_patients_data = spark.read.format('csv').option('header','true').option('mode','append').option('inferSchema','true').load(path3)\n",
    "daily_patients_data = daily_patients_data.withColumn('admission_date',daily_patients_data['admission_date'].cast(\"date\"))\n",
    "daily_patients_data.write.format('delta').mode('append').saveAsTable('default.src_daily_pat_data')"
   ]
  }
 ],
 "metadata": {
  "application/vnd.databricks.v1+notebook": {
   "dashboards": [],
   "environmentMetadata": {
    "base_environment": "",
    "client": "1"
   },
   "language": "python",
   "notebookMetadata": {
    "mostRecentlyExecutedCommandWithImplicitDF": {
     "commandId": 1669394463050209,
     "dataframes": [
      "_sqldf"
     ]
    },
    "pythonIndentUnit": 2
   },
   "notebookName": "Spark_stream_data_feed",
   "widgets": {}
  },
  "language_info": {
   "name": "python"
  }
 },
 "nbformat": 4,
 "nbformat_minor": 0
}
