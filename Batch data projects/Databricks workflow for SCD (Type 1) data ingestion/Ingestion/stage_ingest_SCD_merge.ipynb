{
 "cells": [
  {
   "cell_type": "code",
   "execution_count": 0,
   "metadata": {
    "application/vnd.databricks.v1+cell": {
     "cellMetadata": {
      "byteLimit": 2048000,
      "rowLimit": 10000
     },
     "inputWidgets": {},
     "nuid": "e4511728-e553-43bf-8ac1-d9ab8f1cf800",
     "showTitle": false,
     "tableResultSettingsMap": {},
     "title": ""
    }
   },
   "outputs": [],
   "source": [
    "from delta.tables import *\n",
    "from pyspark.sql.functions import *\n",
    "from pyspark.sql.window import Window\n",
    "stageDeltaTable = 'spark_workspace.default.stage_table'\n",
    "ingestTable = 'spark_workspace.default.ingest_table'\n",
    "\n"
   ]
  },
  {
   "cell_type": "code",
   "execution_count": 0,
   "metadata": {
    "application/vnd.databricks.v1+cell": {
     "cellMetadata": {
      "byteLimit": 2048000,
      "rowLimit": 10000
     },
     "inputWidgets": {},
     "nuid": "94a568b2-55d6-47ee-8279-adb49e02d871",
     "showTitle": false,
     "tableResultSettingsMap": {},
     "title": ""
    }
   },
   "outputs": [],
   "source": [
    "winSpec = Window.partitionBy('order_num').orderBy(col('last_update_timestamp').desc())\n",
    "\n",
    "stage_df = spark.read.table(stageDeltaTable)\n",
    "\n",
    "stageDf_rn = stage_df.withColumn('row_number',row_number().over(winSpec))\n",
    "\n",
    "\n",
    "stageDf_Filtered =  stageDf_rn[stageDf_rn['row_number']==1]\n",
    "\n",
    "if spark._jsparkSession.catalog().tableExists(ingestTable):\n",
    "    target_table = DeltaTable.forName(spark, ingestTable)\n",
    "\n",
    "    # Define the merge condition based on the tracking_num column\n",
    "    merge_condition = \"stage.tracking_num = target.tracking_num\"\n",
    "\n",
    "    # Execute the merge operation for SCD Type 2\n",
    "    target_table.alias(\"target\") \\\n",
    "        .merge(stageDf_Filtered.alias(\"stage\"), merge_condition) \\\n",
    "        .whenMatchedUpdate(set={\n",
    "            \"target.status\": \"stage.status\",\n",
    "            \"target.last_update_timestamp\": \"stage.last_update_timestamp\"\n",
    "        }) \\\n",
    "        .whenNotMatchedInsert(values={\n",
    "            \"target.order_num\": \"stage.order_num\",\n",
    "            \"target.tracking_num\": \"stage.tracking_num\",\n",
    "            \"target.pck_recieved_date\": \"stage.pck_recieved_date\",\n",
    "            \"target.package_deliver_date\": \"stage.package_deliver_date\",\n",
    "            \"target.status\": \"stage.status\",\n",
    "            \"target.address\": \"stage.address\",\n",
    "            \"target.last_update_timestamp\":\"stage.last_update_timestamp\"\n",
    "        }) \\\n",
    "        .execute()\n",
    "\n",
    "    # stage_df.write.format(\"delta\").mode(\"append\").saveAsTable(ingestTable)\n",
    "else:\n",
    "    stage_df.write.format(\"delta\").saveAsTable(ingestTable)"
   ]
  }
 ],
 "metadata": {
  "application/vnd.databricks.v1+notebook": {
   "dashboards": [],
   "environmentMetadata": {
    "base_environment": "",
    "client": "1"
   },
   "language": "python",
   "notebookMetadata": {
    "pythonIndentUnit": 4
   },
   "notebookName": "stage_ingest_SCD_merge",
   "widgets": {}
  },
  "language_info": {
   "name": "python"
  }
 },
 "nbformat": 4,
 "nbformat_minor": 0
}
