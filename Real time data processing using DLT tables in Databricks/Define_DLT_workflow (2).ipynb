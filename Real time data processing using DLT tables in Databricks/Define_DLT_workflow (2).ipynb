{
 "cells": [
  {
   "cell_type": "code",
   "execution_count": 0,
   "metadata": {
    "application/vnd.databricks.v1+cell": {
     "cellMetadata": {
      "byteLimit": 2048000,
      "rowLimit": 10000
     },
     "inputWidgets": {},
     "nuid": "d4a35546-8bd5-492b-a12d-5b0c2fc31bae",
     "showTitle": false,
     "tableResultSettingsMap": {},
     "title": ""
    }
   },
   "outputs": [],
   "source": [
    "%sql\n",
    "CREATE OR REFRESH LIVE TABLE diagnostic_mapping\n",
    "COMMENT \"Bronze table for the diagnosis mapping file\"\n",
    "TBLPROPERTIES (\"quality\" = \"bronze\")\n",
    "AS\n",
    "SELECT *\n",
    "FROM spark_workspace.default.src_raw_diag_map\n"
   ]
  },
  {
   "cell_type": "code",
   "execution_count": 0,
   "metadata": {
    "application/vnd.databricks.v1+cell": {
     "cellMetadata": {
      "byteLimit": 2048000,
      "rowLimit": 10000
     },
     "inputWidgets": {},
     "nuid": "7364d3b3-1fad-4da3-99bb-8c641eedec0d",
     "showTitle": false,
     "tableResultSettingsMap": {},
     "title": ""
    },
    "jupyter": {
     "outputs_hidden": true
    }
   },
   "outputs": [],
   "source": [
    "%sql\n",
    "CREATE OR REFRESH STREAMING TABLE daily_patients\n",
    "COMMENT \"Bronze table for daily patient data\"\n",
    "TBLPROPERTIES (\"quality\" = \"bronze\")\n",
    "AS\n",
    "SELECT *\n",
    "FROM STREAM(spark_workspace.default.src_daily_pat_data)"
   ]
  },
  {
   "cell_type": "code",
   "execution_count": 0,
   "metadata": {
    "application/vnd.databricks.v1+cell": {
     "cellMetadata": {},
     "inputWidgets": {},
     "nuid": "6753ece3-094d-4823-b4b3-d853be63ab3d",
     "showTitle": false,
     "tableResultSettingsMap": {},
     "title": ""
    }
   },
   "outputs": [],
   "source": [
    "%sql\n",
    "CREATE OR REFRESH STREAMING TABLE processed_patient_data(CONSTRAINT valid_data EXPECT (patient_id IS NOT NULL and `name` IS NOT NULL and age IS NOT NULL and gender IS NOT NULL and `address` IS NOT NULL and contact_number IS NOT NULL and admission_date IS NOT NULL) ON VIOLATION DROP ROW)\n",
    "COMMENT \"Silver table with newly joined data from bronze tables and data quality constraints\"\n",
    "TBLPROPERTIES (\"quality\" = \"silver\")\n",
    "AS\n",
    "SELECT\n",
    "    p.patient_id,\n",
    "    p.name,\n",
    "    p.age,\n",
    "    p.gender,\n",
    "    p.address,\n",
    "    p.contact_number,\n",
    "    p.admission_date,\n",
    "    m.diagnosis_description\n",
    "FROM STREAM(live.daily_patients) p\n",
    "LEFT JOIN live.diagnostic_mapping m\n",
    "ON p.diagnosis_code = m.diagnosis_code;"
   ]
  },
  {
   "cell_type": "code",
   "execution_count": 0,
   "metadata": {
    "application/vnd.databricks.v1+cell": {
     "cellMetadata": {},
     "inputWidgets": {},
     "nuid": "e2c4b375-dfe0-4605-9c84-253e3d932ab5",
     "showTitle": false,
     "tableResultSettingsMap": {},
     "title": ""
    }
   },
   "outputs": [],
   "source": [
    "%sql\n",
    "CREATE LIVE TABLE patient_statistics_by_diagnosis\n",
    "COMMENT \"Gold table with detailed patient statistics by diagnosis description\"\n",
    "TBLPROPERTIES (\"quality\" = \"gold\")\n",
    "AS\n",
    "SELECT\n",
    "    diagnosis_description,\n",
    "    COUNT(patient_id) AS patient_count,\n",
    "    AVG(age) AS avg_age,\n",
    "    COUNT(DISTINCT gender) AS unique_gender_count,\n",
    "    MIN(age) AS min_age,\n",
    "    MAX(age) AS max_age\n",
    "FROM live.processed_patient_data\n",
    "GROUP BY diagnosis_description;\n"
   ]
  }
 ],
 "metadata": {
  "application/vnd.databricks.v1+notebook": {
   "dashboards": [],
   "environmentMetadata": {
    "base_environment": "",
    "client": "1"
   },
   "language": "sql",
   "notebookMetadata": {
    "mostRecentlyExecutedCommandWithImplicitDF": {
     "commandId": -1,
     "dataframes": [
      "_sqldf"
     ]
    },
    "pythonIndentUnit": 2
   },
   "notebookName": "Define_DLT_workflow",
   "widgets": {}
  },
  "language_info": {
   "name": "sql"
  }
 },
 "nbformat": 4,
 "nbformat_minor": 0
}
