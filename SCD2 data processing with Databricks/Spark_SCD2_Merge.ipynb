{
 "cells": [
  {
   "cell_type": "code",
   "execution_count": 0,
   "metadata": {
    "application/vnd.databricks.v1+cell": {
     "cellMetadata": {
      "byteLimit": 2048000,
      "rowLimit": 10000
     },
     "inputWidgets": {},
     "nuid": "0edea227-94b8-4f08-b350-b5202dc1c145",
     "showTitle": false,
     "title": ""
    }
   },
   "outputs": [
    {
     "output_type": "stream",
     "name": "stdout",
     "output_type": "stream",
     "text": [
      "3.5.0\nroot\n |-- booking_id: integer (nullable = true)\n |-- customer_id: integer (nullable = true)\n |-- booking_date: date (nullable = true)\n |-- amount: integer (nullable = true)\n |-- booking_type: string (nullable = true)\n |-- quantity: integer (nullable = true)\n |-- discount: integer (nullable = true)\n |-- booking_status: string (nullable = true)\n |-- hotel_name: string (nullable = true)\n |-- flight_number: string (nullable = true)\n\n"
     ]
    },
    {
     "output_type": "display_data",
     "data": {
      "text/plain": [
       "'dbfs:/DataEngineering/bookings_daily_data/bookings_2024-07-26.csv'"
      ]
     },
     "metadata": {},
     "output_type": "display_data"
    },
    {
     "output_type": "stream",
     "name": "stdout",
     "output_type": "stream",
     "text": [
      "root\n |-- customer_id: integer (nullable = true)\n |-- customer_name: string (nullable = true)\n |-- customer_address: string (nullable = true)\n |-- phone_number: string (nullable = true)\n |-- email: string (nullable = true)\n |-- valid_from: date (nullable = true)\n |-- valid_to: date (nullable = true)\n\n"
     ]
    },
    {
     "output_type": "display_data",
     "data": {
      "text/html": [
       "<style scoped>\n",
       "  .table-result-container {\n",
       "    max-height: 300px;\n",
       "    overflow: auto;\n",
       "  }\n",
       "  table, th, td {\n",
       "    border: 1px solid black;\n",
       "    border-collapse: collapse;\n",
       "  }\n",
       "  th, td {\n",
       "    padding: 5px;\n",
       "  }\n",
       "  th {\n",
       "    text-align: left;\n",
       "  }\n",
       "</style><div class='table-result-container'><table class='table-result'><thead style='background-color: white'><tr><th>customer_id</th><th>customer_name</th><th>customer_address</th><th>phone_number</th><th>email</th><th>valid_from</th><th>valid_to</th></tr></thead><tbody><tr><td>1026</td><td>Lori Odom</td><td>66894 Pamela Ridge Apt. 701\n",
       "Wilsonport, NV 55859</td><td>null</td><td>santanachristopher@wilson-bailey.com</td><td>2024-01-30</td><td>9999-12-31</td></tr><tr><td>1030</td><td>David Odonnell</td><td>USNV Simmons\n",
       "FPO AE 08244</td><td>6864684148</td><td>kathleen41@hotmail.com</td><td>2024-08-30</td><td>9999-12-31</td></tr><tr><td>1035</td><td>Cheryl Weaver</td><td>3716 Cunningham Station Apt. 567\n",
       "Davidborough, TX 41021</td><td>893.223.0773x3326</td><td>smithcatherine@yahoo.com</td><td>2024-03-07</td><td>9999-12-31</td></tr><tr><td>1036</td><td>Rebecca Johnson</td><td>674 Bishop Mission\n",
       "Suzannebury, NY 90306</td><td>018.713.0054x360</td><td>carol33@holt-higgins.info</td><td>2024-05-25</td><td>9999-12-31</td></tr><tr><td>1037</td><td>Lisa Hill</td><td>6720 Brittany Streets\n",
       "Lake Sabrinaview, IN 22990</td><td>(646)830-3919x64651</td><td>cory15@hotmail.com</td><td>2024-11-01</td><td>9999-12-31</td></tr><tr><td>1038</td><td>Aaron Cooper</td><td>37842 Haynes Isle Suite 421\n",
       "South Marisa, PA 75690</td><td>249-334-3781x7626</td><td>crystal91@henderson-lane.net</td><td>2024-11-26</td><td>9999-12-31</td></tr><tr><td>1039</td><td>Betty Andrews</td><td>Unit 9441 Box 7301\n",
       "DPO AA 92892</td><td>(055)647-0735</td><td>avilacody@yahoo.com</td><td>2024-04-10</td><td>9999-12-31</td></tr><tr><td>1047</td><td>Edward Stone</td><td>31740 Martinez Trace\n",
       "Jonesview, NC 49949</td><td>884.266.5166x7808</td><td>zwhite@hotmail.com</td><td>2024-03-31</td><td>9999-12-31</td></tr><tr><td>1048</td><td>James Myers</td><td>78527 Kelly Corner\n",
       "Powellbury, FL 03544</td><td>001-403-398-8094</td><td>vyoder@wiley-jones.com</td><td>2024-08-06</td><td>9999-12-31</td></tr><tr><td>1050</td><td>Scott Freeman</td><td>528 John Hollow\n",
       "Theresabury, SC 37328</td><td>0970621868</td><td>emily78@gmail.com</td><td>2024-01-24</td><td>9999-12-31</td></tr><tr><td>1053</td><td>Robert Pratt</td><td>9189 Christine Divide\n",
       "Port Edward, OH 51538</td><td>020.465.4390</td><td>anthony28@hotmail.com</td><td>2024-11-06</td><td>9999-12-31</td></tr><tr><td>1054</td><td>Ronald Sharp</td><td>027 King Forest\n",
       "East Megan, WV 86035</td><td>665.459.2000x4188</td><td>christophergarcia@yahoo.com</td><td>2024-01-29</td><td>9999-12-31</td></tr><tr><td>1056</td><td>Courtney Gomez</td><td>3891 Mcdonald Grove Apt. 869\n",
       "Lake Latoyabury, NJ 14390</td><td>4457130347</td><td>markgreen@mitchell.com</td><td>2024-04-20</td><td>9999-12-31</td></tr><tr><td>1057</td><td>Scott Mason</td><td>108 Angela Via Suite 828\n",
       "North Thomas, AZ 36777</td><td>598.565.6459x188</td><td>debra31@carter.com</td><td>2024-04-21</td><td>9999-12-31</td></tr><tr><td>1058</td><td>Jorge Ortega</td><td>USCGC Burns\n",
       "FPO AA 09606</td><td>(680)662-4877x04969</td><td>michelleglass@gmail.com</td><td>2024-07-30</td><td>9999-12-31</td></tr><tr><td>1062</td><td>Jack Wood</td><td>PSC 4226, Box 5476\n",
       "APO AA 60249</td><td>(439)936-5825</td><td>daniel35@griffin-adams.info</td><td>2024-08-30</td><td>9999-12-31</td></tr><tr><td>1064</td><td>Chelsea Clark</td><td>671 Frazier Stravenue\n",
       "Jamesborough, MA 35967</td><td>455.151.6928</td><td>marshallstephanie@gmail.com</td><td>2024-07-14</td><td>9999-12-31</td></tr><tr><td>1065</td><td>Anthony Moore</td><td>58492 Moore Circles\n",
       "North Oscarland, AK 48584</td><td>(232)517-2974x49987</td><td>vhart@gmail.com</td><td>2024-09-28</td><td>9999-12-31</td></tr><tr><td>1066</td><td>Adam Adams</td><td>USS Hall\n",
       "FPO AE 84729</td><td>001-478-168-9105</td><td>hdaniel@yahoo.com</td><td>2024-07-05</td><td>9999-12-31</td></tr><tr><td>1067</td><td>Tony Vincent</td><td>30698 Carol Square Apt. 356\n",
       "Baileyberg, WI 85207</td><td>(817)155-1702</td><td>scooley@white.org</td><td>2024-07-12</td><td>9999-12-31</td></tr><tr><td>1070</td><td>Jacob Harris</td><td>156 Barbara Isle\n",
       "Port Sergio, OK 76030</td><td>+1-942-233-6560x0367</td><td>danielleweber@gmail.com</td><td>2024-08-10</td><td>9999-12-31</td></tr><tr><td>1074</td><td>Steven Williams</td><td>USCGC Barton\n",
       "FPO AP 04123</td><td>+1-712-164-2330x8887</td><td>michaelmiles@joseph.info</td><td>2024-04-28</td><td>9999-12-31</td></tr><tr><td>1077</td><td>Dr. Amanda Cochran</td><td>USNS Cunningham\n",
       "FPO AE 51113</td><td>+1-964-993-3920x3202</td><td>williamskathleen@ramirez-alexander.com</td><td>2024-08-18</td><td>9999-12-31</td></tr><tr><td>1081</td><td>Lindsay Wilson</td><td>797 Lisa River Suite 866\n",
       "West Carolbury, KS 44892</td><td>(207)272-3996x79818</td><td>christine79@taylor.net</td><td>2024-04-02</td><td>9999-12-31</td></tr><tr><td>1083</td><td>Jocelyn Montgomery</td><td>140 Taylor Way\n",
       "Jeremybury, CO 91712</td><td>695-126-5223</td><td>stephaniewelch@haas.biz</td><td>2024-12-25</td><td>9999-12-31</td></tr><tr><td>1085</td><td>Alvin Walsh</td><td>4112 Spears Centers\n",
       "Robertton, AL 68222</td><td>(267)390-6828x89534</td><td>wcampbell@gmail.com</td><td>2024-04-13</td><td>9999-12-31</td></tr><tr><td>1086</td><td>Aaron Mcdowell</td><td>46192 Patrick Well Suite 484\n",
       "Nicholasberg, MD 44026</td><td>+1-500-357-4351</td><td>stephen36@brown.com</td><td>2024-04-28</td><td>9999-12-31</td></tr><tr><td>1087</td><td>Justin Rowe</td><td>5753 Brian Way\n",
       "Pattystad, OK 45929</td><td>001-549-169-1682x19781</td><td>robert67@yahoo.com</td><td>2024-08-10</td><td>9999-12-31</td></tr><tr><td>1088</td><td>Cynthia Williams</td><td>870 Keith Plaza Apt. 880\n",
       "Port Dianaland, AK 54229</td><td>+1-330-472-1846x00448</td><td>elizabethlynch@brown.info</td><td>2024-06-10</td><td>9999-12-31</td></tr><tr><td>1089</td><td>Brandon Macias</td><td>602 Jennifer Village Apt. 297\n",
       "Bassberg, OH 66020</td><td>(701)194-6449x59349</td><td>xmartinez@yahoo.com</td><td>2024-07-06</td><td>9999-12-31</td></tr><tr><td>1090</td><td>Johnathan Meyer</td><td>006 Sarah Village\n",
       "Norrisside, ID 58412</td><td>328.284.4441x211</td><td>ihowe@frederick.info</td><td>2024-07-01</td><td>9999-12-31</td></tr><tr><td>1095</td><td>Jeffrey Becker</td><td>Unit 7106 Box 4307\n",
       "DPO AP 54542</td><td>001-636-040-1136x95849</td><td>samanthaandersen@reynolds-nichols.info</td><td>2024-07-09</td><td>9999-12-31</td></tr><tr><td>1096</td><td>Holly Medina</td><td>2648 Jackson Lakes Suite 767\n",
       "Aliciahaven, VA 52977</td><td>(875)340-1444</td><td>alanmolina@doyle.com</td><td>2024-07-29</td><td>9999-12-31</td></tr><tr><td>1097</td><td>Carrie Levy</td><td>53894 Lauren Vista\n",
       "Natalieside, TN 57176</td><td>+1-426-321-0954</td><td>michaelcollier@odonnell.org</td><td>2024-01-26</td><td>9999-12-31</td></tr><tr><td>1098</td><td>Matthew Murphy</td><td>PSC 5614, Box 1870\n",
       "APO AP 94866</td><td>2438925942</td><td>greermichael@yahoo.com</td><td>2024-10-19</td><td>9999-12-31</td></tr><tr><td>1099</td><td>James Welch</td><td>USNS Rhodes\n",
       "FPO AE 19915</td><td>918.910.1041x1076</td><td>amanda62@yahoo.com</td><td>2024-07-28</td><td>9999-12-31</td></tr><tr><td>1101</td><td>Daniel Nichols</td><td>5543 Green Via Apt. 254\n",
       "West Arthur, NV 37882</td><td>0285724877</td><td>martinkatherine@yahoo.com</td><td>2024-03-14</td><td>9999-12-31</td></tr><tr><td>1102</td><td>Brandon Cunningham</td><td>76645 Pittman Village\n",
       "Jonesland, IL 18027</td><td>+1-611-684-8312x3933</td><td>smithcolleen@lester.info</td><td>2024-11-25</td><td>9999-12-31</td></tr><tr><td>1103</td><td>Joshua Lester</td><td>55425 Amber Village\n",
       "West Sarah, AL 67890</td><td>+1-806-294-9071x038</td><td>scottalexander@gmail.com</td><td>2024-02-17</td><td>9999-12-31</td></tr><tr><td>1104</td><td>Ray Garcia</td><td>6459 Michelle Knolls\n",
       "West Tara, NJ 71178</td><td>692.953.0120x606</td><td>yhouse@yahoo.com</td><td>2024-06-30</td><td>9999-12-31</td></tr><tr><td>1105</td><td>Christopher Garrett</td><td>PSC 4301, Box 9100\n",
       "APO AP 99350</td><td>934.794.3923x64446</td><td>floresnicholas@stafford.com</td><td>2024-06-04</td><td>9999-12-31</td></tr><tr><td>1106</td><td>Stephanie Wang</td><td>3123 Crystal Club Apt. 586\n",
       "Rachelside, ID 57822</td><td>244-576-0368x135</td><td>todd34@gmail.com</td><td>2024-07-06</td><td>9999-12-31</td></tr><tr><td>1107</td><td>Eric Fisher</td><td>2786 Judith Gateway Suite 725\n",
       "Jameshaven, WA 74766</td><td>0759950746</td><td>vward@hotmail.com</td><td>2024-03-26</td><td>9999-12-31</td></tr><tr><td>1108</td><td>Earl Walker</td><td>Unit 5236 Box 0869\n",
       "DPO AA 25371</td><td>+1-805-231-9006x44986</td><td>jamiebradley@best-cole.com</td><td>2024-12-01</td><td>9999-12-31</td></tr><tr><td>1110</td><td>Brenda Best</td><td>734 Ronald Flat\n",
       "Port Scott, NV 84093</td><td>+1-598-095-4782x680</td><td>colerogers@hotmail.com</td><td>2024-03-06</td><td>9999-12-31</td></tr><tr><td>1112</td><td>Christina Reed</td><td>7329 Stevenson Dale\n",
       "Cobbfurt, UT 54886</td><td>001-445-858-8528x3065</td><td>juliagray@hotmail.com</td><td>2024-12-02</td><td>9999-12-31</td></tr><tr><td>1113</td><td>Jennifer Thomas</td><td>2433 David Freeway\n",
       "Thomasland, DE 81787</td><td>001-142-629-3880x085</td><td>smithcrystal@molina-graham.com</td><td>2024-11-24</td><td>9999-12-31</td></tr><tr><td>1114</td><td>Russell Cole</td><td>32632 Parker Square Apt. 043\n",
       "New Danielfort, NY 92606</td><td>001-950-823-4506x97590</td><td>sryan@day.com</td><td>2024-04-19</td><td>9999-12-31</td></tr><tr><td>1116</td><td>Riley Knox</td><td>PSC 3733, Box 4565\n",
       "APO AP 45908</td><td>001-877-594-9745x82639</td><td>michelleibarra@gmail.com</td><td>2024-08-05</td><td>9999-12-31</td></tr><tr><td>1117</td><td>Jeremiah Gomez</td><td>89496 Oneill Station\n",
       "Catherinechester, MD 97910</td><td>537-690-3413x568</td><td>curryjames@rosales.com</td><td>2024-02-18</td><td>9999-12-31</td></tr><tr><td>1118</td><td>Mary Morse</td><td>111 Thomas Hill Apt. 374\n",
       "Patriciafort, GA 64630</td><td>+1-087-088-7843</td><td>melaniewillis@hotmail.com</td><td>2024-10-15</td><td>9999-12-31</td></tr><tr><td>1121</td><td>Jacob Davis</td><td>81113 Karen Lakes\n",
       "Chelseaborough, RI 21193</td><td>628.326.0161x5057</td><td>lreyes@brandt.biz</td><td>2024-08-01</td><td>9999-12-31</td></tr><tr><td>1122</td><td>Sharon Fitzgerald</td><td>55564 Thomas Harbors\n",
       "Williamfurt, MN 54496</td><td>915.421.4711</td><td>evanspamela@hall.biz</td><td>2024-02-25</td><td>9999-12-31</td></tr><tr><td>1124</td><td>John Jenkins</td><td>9106 Phillips Pike Suite 489\n",
       "North Jesseberg, ME 35108</td><td>461-290-9254</td><td>ywilliams@reyes.com</td><td>2024-10-01</td><td>9999-12-31</td></tr><tr><td>1125</td><td>Caitlin Walker</td><td>25730 Jordan Glens\n",
       "Natashaburgh, TX 14127</td><td>159-567-2409x914</td><td>marksimpson@yahoo.com</td><td>2024-03-20</td><td>9999-12-31</td></tr><tr><td>1128</td><td>Sheila Smith</td><td>832 Moore Causeway Apt. 295\n",
       "Petersonport, NE 70527</td><td>847.582.6112x46147</td><td>glassgabrielle@shaffer.net</td><td>2024-10-22</td><td>9999-12-31</td></tr><tr><td>1131</td><td>Jonathon Garcia</td><td>852 Cohen Knolls\n",
       "Baileyberg, FL 50623</td><td>694-165-4868x8928</td><td>durannicholas@cruz.com</td><td>2024-02-10</td><td>9999-12-31</td></tr><tr><td>1132</td><td>Jason Johnson</td><td>0822 Hayes Run Apt. 230\n",
       "Johnberg, OK 59668</td><td>(674)707-8307x2244</td><td>wkhan@hotmail.com</td><td>2024-10-16</td><td>9999-12-31</td></tr><tr><td>1133</td><td>Alexis Andersen</td><td>835 Baldwin Hill\n",
       "Williamview, MS 81351</td><td>412-710-7880x06641</td><td>sharismith@potter-martinez.org</td><td>2024-11-15</td><td>9999-12-31</td></tr><tr><td>1135</td><td>Laura Garcia</td><td>Unit 7049 Box 6746\n",
       "DPO AE 57337</td><td>+1-219-330-3482</td><td>heatherjones@fisher-simpson.com</td><td>2024-01-23</td><td>9999-12-31</td></tr><tr><td>1136</td><td>Paula Wallace</td><td>7685 Stephenson Wells\n",
       "Rogersfort, WA 25907</td><td>851.488.7590</td><td>michael51@hotmail.com</td><td>2024-04-01</td><td>9999-12-31</td></tr><tr><td>1137</td><td>Melissa Williams</td><td>092 Michael Camp Apt. 547\n",
       "New Jonathanmouth, OK 25320</td><td>944.753.2471x9620</td><td>umiller@church.com</td><td>2024-11-23</td><td>9999-12-31</td></tr><tr><td>1138</td><td>Mr. Nicholas Rhodes</td><td>8514 Jeremiah Plaza\n",
       "Terrybury, CT 21986</td><td>722.429.8400</td><td>susanbailey@yahoo.com</td><td>2024-03-20</td><td>9999-12-31</td></tr><tr><td>1139</td><td>Monique Jones</td><td>065 Heather Route\n",
       "West Andreafort, CA 50012</td><td>1399509257</td><td>christopherrodriguez@ferguson.com</td><td>2024-10-07</td><td>9999-12-31</td></tr><tr><td>1140</td><td>Bryan Lowe</td><td>8557 Pamela Squares\n",
       "South Michaeltown, MT 09574</td><td>338.246.7463x1880</td><td>jonesrachael@obrien-george.com</td><td>2024-07-19</td><td>9999-12-31</td></tr><tr><td>1141</td><td>Charles Jimenez</td><td>283 Fitzpatrick Shoals\n",
       "South Tina, OH 10782</td><td>(050)207-9153</td><td>rscott@yahoo.com</td><td>2024-07-26</td><td>9999-12-31</td></tr><tr><td>1142</td><td>Jose Thompson</td><td>Unit 7648 Box 9504\n",
       "DPO AP 14164</td><td>0928875051</td><td>aaronbaldwin@hensley-vargas.com</td><td>2024-10-30</td><td>9999-12-31</td></tr><tr><td>1143</td><td>Thomas Trevino</td><td>8984 Jones Well Apt. 442\n",
       "Davisland, CA 21129</td><td>001-533-877-8707x1893</td><td>mistymckenzie@ingram.com</td><td>2024-01-14</td><td>9999-12-31</td></tr><tr><td>1144</td><td>Tamara Mckee</td><td>07920 Robert Road Suite 591\n",
       "East Robynstad, CA 09005</td><td>0306655132</td><td>dgibson@hotmail.com</td><td>2024-05-01</td><td>9999-12-31</td></tr><tr><td>1145</td><td>Phillip Johnson</td><td>7182 William Summit\n",
       "Fordbury, AR 60752</td><td>001-964-581-6969x374</td><td>david13@gmail.com</td><td>2024-06-08</td><td>9999-12-31</td></tr><tr><td>1146</td><td>Austin Miller</td><td>069 Karen Roads Apt. 535\n",
       "South David, MA 33754</td><td>6120286418</td><td>zcarney@yahoo.com</td><td>2024-11-12</td><td>9999-12-31</td></tr><tr><td>1148</td><td>Susan Flores</td><td>11958 Monique Radial\n",
       "Gregoryton, NH 84504</td><td>+1-519-930-7580x41920</td><td>bernardgregory@howell.com</td><td>2024-05-22</td><td>9999-12-31</td></tr><tr><td>1149</td><td>Terri Aguilar</td><td>Unit 6245 Box 6703\n",
       "DPO AA 27816</td><td>001-789-502-2055x8699</td><td>victorroth@richardson-brown.com</td><td>2024-11-12</td><td>9999-12-31</td></tr><tr><td>1001</td><td>Michelle Mcbride</td><td>0613 Sanders Islands Suite 871\n",
       "Catherineport, MN 20654</td><td>(220)633-2698x716</td><td>millergabriella@greene.com</td><td>2024-09-10</td><td>9999-12-31</td></tr><tr><td>1002</td><td>Caleb Carter</td><td>USNS Young\n",
       "FPO AP 70550</td><td>(838)696-0925x780</td><td>wardjennifer@hotmail.com</td><td>2024-03-18</td><td>9999-12-31</td></tr><tr><td>1006</td><td>Jennifer Adams</td><td>27070 Young Views Apt. 973\n",
       "Russellside, TX 46865</td><td>(860)022-1416</td><td>todd23@hotmail.com</td><td>2024-08-21</td><td>9999-12-31</td></tr><tr><td>1008</td><td>Cameron Patrick</td><td>76801 Ruiz Roads\n",
       "Lisaview, ND 46964</td><td>527.433.0454x28798</td><td>kathy09@gmail.com</td><td>2024-07-15</td><td>9999-12-31</td></tr><tr><td>1009</td><td>Brian Klein</td><td>3691 Hall Greens\n",
       "East Jenniferburgh, MA 37230</td><td>089.818.6903x976</td><td>klambert@gmail.com</td><td>2024-08-25</td><td>9999-12-31</td></tr><tr><td>1012</td><td>James Wood</td><td>27108 Valenzuela Track\n",
       "Mclaughlinbury, CA 55514</td><td>(238)466-5589x423</td><td>paguilar@gmail.com</td><td>2024-05-20</td><td>9999-12-31</td></tr><tr><td>1013</td><td>Jeffrey Reid</td><td>45623 Carter Road Apt. 269\n",
       "Port Brooke, ND 58705</td><td>(975)717-8886</td><td>williamwilson@franklin.net</td><td>2024-03-09</td><td>9999-12-31</td></tr><tr><td>1014</td><td>Stephanie Perez</td><td>7888 Lee Station\n",
       "Raymondville, NC 92293</td><td>896-664-7563x040</td><td>curtis83@williams.com</td><td>2024-09-28</td><td>9999-12-31</td></tr><tr><td>1015</td><td>Lisa Strickland</td><td>USNS Mullins\n",
       "FPO AA 32432</td><td>(341)883-0965x098</td><td>kathyharris@booker-garcia.com</td><td>2024-04-01</td><td>9999-12-31</td></tr><tr><td>1017</td><td>Emily Stark</td><td>779 John Union\n",
       "Port Daniel, KY 36281</td><td>(948)584-0349x382</td><td>nicole17@yahoo.com</td><td>2024-05-01</td><td>9999-12-31</td></tr><tr><td>1019</td><td>Zachary Ramos</td><td>99482 Donald Viaduct Suite 025\n",
       "East Michelle, NC 73134</td><td>584.260.9761x6212</td><td>cheyennebrown@nelson-whitehead.com</td><td>2024-07-21</td><td>9999-12-31</td></tr><tr><td>1021</td><td>Christopher Jones</td><td>974 Warren Oval Suite 758\n",
       "East Alexandra, MD 97793</td><td>106.449.4907x68325</td><td>khernandez@little.info</td><td>2024-05-10</td><td>9999-12-31</td></tr><tr><td>1022</td><td>Brenda Simpson</td><td>0274 Simmons Views\n",
       "North Kyle, RI 73851</td><td>404.284.9665</td><td>johnsamy@simpson.com</td><td>2024-12-15</td><td>9999-12-31</td></tr><tr><td>1023</td><td>Krista Wright DDS</td><td>4032 Gabriella Plains Apt. 331\n",
       "Jennifertown, CO 56996</td><td>+1-486-643-0471x5433</td><td>beth04@hart-green.info</td><td>2024-01-27</td><td>9999-12-31</td></tr></tbody></table></div>"
      ]
     },
     "metadata": {
      "application/vnd.databricks.v1+output": {
       "addedWidgets": {},
       "aggData": [],
       "aggError": "",
       "aggOverflow": false,
       "aggSchema": [],
       "aggSeriesLimitReached": false,
       "aggType": "",
       "arguments": {},
       "columnCustomDisplayInfos": {},
       "data": [
        [
         1026,
         "Lori Odom",
         "66894 Pamela Ridge Apt. 701\nWilsonport, NV 55859",
         null,
         "santanachristopher@wilson-bailey.com",
         "2024-01-30",
         "9999-12-31"
        ],
        [
         1030,
         "David Odonnell",
         "USNV Simmons\nFPO AE 08244",
         "6864684148",
         "kathleen41@hotmail.com",
         "2024-08-30",
         "9999-12-31"
        ],
        [
         1035,
         "Cheryl Weaver",
         "3716 Cunningham Station Apt. 567\nDavidborough, TX 41021",
         "893.223.0773x3326",
         "smithcatherine@yahoo.com",
         "2024-03-07",
         "9999-12-31"
        ],
        [
         1036,
         "Rebecca Johnson",
         "674 Bishop Mission\nSuzannebury, NY 90306",
         "018.713.0054x360",
         "carol33@holt-higgins.info",
         "2024-05-25",
         "9999-12-31"
        ],
        [
         1037,
         "Lisa Hill",
         "6720 Brittany Streets\nLake Sabrinaview, IN 22990",
         "(646)830-3919x64651",
         "cory15@hotmail.com",
         "2024-11-01",
         "9999-12-31"
        ],
        [
         1038,
         "Aaron Cooper",
         "37842 Haynes Isle Suite 421\nSouth Marisa, PA 75690",
         "249-334-3781x7626",
         "crystal91@henderson-lane.net",
         "2024-11-26",
         "9999-12-31"
        ],
        [
         1039,
         "Betty Andrews",
         "Unit 9441 Box 7301\nDPO AA 92892",
         "(055)647-0735",
         "avilacody@yahoo.com",
         "2024-04-10",
         "9999-12-31"
        ],
        [
         1047,
         "Edward Stone",
         "31740 Martinez Trace\nJonesview, NC 49949",
         "884.266.5166x7808",
         "zwhite@hotmail.com",
         "2024-03-31",
         "9999-12-31"
        ],
        [
         1048,
         "James Myers",
         "78527 Kelly Corner\nPowellbury, FL 03544",
         "001-403-398-8094",
         "vyoder@wiley-jones.com",
         "2024-08-06",
         "9999-12-31"
        ],
        [
         1050,
         "Scott Freeman",
         "528 John Hollow\nTheresabury, SC 37328",
         "0970621868",
         "emily78@gmail.com",
         "2024-01-24",
         "9999-12-31"
        ],
        [
         1053,
         "Robert Pratt",
         "9189 Christine Divide\nPort Edward, OH 51538",
         "020.465.4390",
         "anthony28@hotmail.com",
         "2024-11-06",
         "9999-12-31"
        ],
        [
         1054,
         "Ronald Sharp",
         "027 King Forest\nEast Megan, WV 86035",
         "665.459.2000x4188",
         "christophergarcia@yahoo.com",
         "2024-01-29",
         "9999-12-31"
        ],
        [
         1056,
         "Courtney Gomez",
         "3891 Mcdonald Grove Apt. 869\nLake Latoyabury, NJ 14390",
         "4457130347",
         "markgreen@mitchell.com",
         "2024-04-20",
         "9999-12-31"
        ],
        [
         1057,
         "Scott Mason",
         "108 Angela Via Suite 828\nNorth Thomas, AZ 36777",
         "598.565.6459x188",
         "debra31@carter.com",
         "2024-04-21",
         "9999-12-31"
        ],
        [
         1058,
         "Jorge Ortega",
         "USCGC Burns\nFPO AA 09606",
         "(680)662-4877x04969",
         "michelleglass@gmail.com",
         "2024-07-30",
         "9999-12-31"
        ],
        [
         1062,
         "Jack Wood",
         "PSC 4226, Box 5476\nAPO AA 60249",
         "(439)936-5825",
         "daniel35@griffin-adams.info",
         "2024-08-30",
         "9999-12-31"
        ],
        [
         1064,
         "Chelsea Clark",
         "671 Frazier Stravenue\nJamesborough, MA 35967",
         "455.151.6928",
         "marshallstephanie@gmail.com",
         "2024-07-14",
         "9999-12-31"
        ],
        [
         1065,
         "Anthony Moore",
         "58492 Moore Circles\nNorth Oscarland, AK 48584",
         "(232)517-2974x49987",
         "vhart@gmail.com",
         "2024-09-28",
         "9999-12-31"
        ],
        [
         1066,
         "Adam Adams",
         "USS Hall\nFPO AE 84729",
         "001-478-168-9105",
         "hdaniel@yahoo.com",
         "2024-07-05",
         "9999-12-31"
        ],
        [
         1067,
         "Tony Vincent",
         "30698 Carol Square Apt. 356\nBaileyberg, WI 85207",
         "(817)155-1702",
         "scooley@white.org",
         "2024-07-12",
         "9999-12-31"
        ],
        [
         1070,
         "Jacob Harris",
         "156 Barbara Isle\nPort Sergio, OK 76030",
         "+1-942-233-6560x0367",
         "danielleweber@gmail.com",
         "2024-08-10",
         "9999-12-31"
        ],
        [
         1074,
         "Steven Williams",
         "USCGC Barton\nFPO AP 04123",
         "+1-712-164-2330x8887",
         "michaelmiles@joseph.info",
         "2024-04-28",
         "9999-12-31"
        ],
        [
         1077,
         "Dr. Amanda Cochran",
         "USNS Cunningham\nFPO AE 51113",
         "+1-964-993-3920x3202",
         "williamskathleen@ramirez-alexander.com",
         "2024-08-18",
         "9999-12-31"
        ],
        [
         1081,
         "Lindsay Wilson",
         "797 Lisa River Suite 866\nWest Carolbury, KS 44892",
         "(207)272-3996x79818",
         "christine79@taylor.net",
         "2024-04-02",
         "9999-12-31"
        ],
        [
         1083,
         "Jocelyn Montgomery",
         "140 Taylor Way\nJeremybury, CO 91712",
         "695-126-5223",
         "stephaniewelch@haas.biz",
         "2024-12-25",
         "9999-12-31"
        ],
        [
         1085,
         "Alvin Walsh",
         "4112 Spears Centers\nRobertton, AL 68222",
         "(267)390-6828x89534",
         "wcampbell@gmail.com",
         "2024-04-13",
         "9999-12-31"
        ],
        [
         1086,
         "Aaron Mcdowell",
         "46192 Patrick Well Suite 484\nNicholasberg, MD 44026",
         "+1-500-357-4351",
         "stephen36@brown.com",
         "2024-04-28",
         "9999-12-31"
        ],
        [
         1087,
         "Justin Rowe",
         "5753 Brian Way\nPattystad, OK 45929",
         "001-549-169-1682x19781",
         "robert67@yahoo.com",
         "2024-08-10",
         "9999-12-31"
        ],
        [
         1088,
         "Cynthia Williams",
         "870 Keith Plaza Apt. 880\nPort Dianaland, AK 54229",
         "+1-330-472-1846x00448",
         "elizabethlynch@brown.info",
         "2024-06-10",
         "9999-12-31"
        ],
        [
         1089,
         "Brandon Macias",
         "602 Jennifer Village Apt. 297\nBassberg, OH 66020",
         "(701)194-6449x59349",
         "xmartinez@yahoo.com",
         "2024-07-06",
         "9999-12-31"
        ],
        [
         1090,
         "Johnathan Meyer",
         "006 Sarah Village\nNorrisside, ID 58412",
         "328.284.4441x211",
         "ihowe@frederick.info",
         "2024-07-01",
         "9999-12-31"
        ],
        [
         1095,
         "Jeffrey Becker",
         "Unit 7106 Box 4307\nDPO AP 54542",
         "001-636-040-1136x95849",
         "samanthaandersen@reynolds-nichols.info",
         "2024-07-09",
         "9999-12-31"
        ],
        [
         1096,
         "Holly Medina",
         "2648 Jackson Lakes Suite 767\nAliciahaven, VA 52977",
         "(875)340-1444",
         "alanmolina@doyle.com",
         "2024-07-29",
         "9999-12-31"
        ],
        [
         1097,
         "Carrie Levy",
         "53894 Lauren Vista\nNatalieside, TN 57176",
         "+1-426-321-0954",
         "michaelcollier@odonnell.org",
         "2024-01-26",
         "9999-12-31"
        ],
        [
         1098,
         "Matthew Murphy",
         "PSC 5614, Box 1870\nAPO AP 94866",
         "2438925942",
         "greermichael@yahoo.com",
         "2024-10-19",
         "9999-12-31"
        ],
        [
         1099,
         "James Welch",
         "USNS Rhodes\nFPO AE 19915",
         "918.910.1041x1076",
         "amanda62@yahoo.com",
         "2024-07-28",
         "9999-12-31"
        ],
        [
         1101,
         "Daniel Nichols",
         "5543 Green Via Apt. 254\nWest Arthur, NV 37882",
         "0285724877",
         "martinkatherine@yahoo.com",
         "2024-03-14",
         "9999-12-31"
        ],
        [
         1102,
         "Brandon Cunningham",
         "76645 Pittman Village\nJonesland, IL 18027",
         "+1-611-684-8312x3933",
         "smithcolleen@lester.info",
         "2024-11-25",
         "9999-12-31"
        ],
        [
         1103,
         "Joshua Lester",
         "55425 Amber Village\nWest Sarah, AL 67890",
         "+1-806-294-9071x038",
         "scottalexander@gmail.com",
         "2024-02-17",
         "9999-12-31"
        ],
        [
         1104,
         "Ray Garcia",
         "6459 Michelle Knolls\nWest Tara, NJ 71178",
         "692.953.0120x606",
         "yhouse@yahoo.com",
         "2024-06-30",
         "9999-12-31"
        ],
        [
         1105,
         "Christopher Garrett",
         "PSC 4301, Box 9100\nAPO AP 99350",
         "934.794.3923x64446",
         "floresnicholas@stafford.com",
         "2024-06-04",
         "9999-12-31"
        ],
        [
         1106,
         "Stephanie Wang",
         "3123 Crystal Club Apt. 586\nRachelside, ID 57822",
         "244-576-0368x135",
         "todd34@gmail.com",
         "2024-07-06",
         "9999-12-31"
        ],
        [
         1107,
         "Eric Fisher",
         "2786 Judith Gateway Suite 725\nJameshaven, WA 74766",
         "0759950746",
         "vward@hotmail.com",
         "2024-03-26",
         "9999-12-31"
        ],
        [
         1108,
         "Earl Walker",
         "Unit 5236 Box 0869\nDPO AA 25371",
         "+1-805-231-9006x44986",
         "jamiebradley@best-cole.com",
         "2024-12-01",
         "9999-12-31"
        ],
        [
         1110,
         "Brenda Best",
         "734 Ronald Flat\nPort Scott, NV 84093",
         "+1-598-095-4782x680",
         "colerogers@hotmail.com",
         "2024-03-06",
         "9999-12-31"
        ],
        [
         1112,
         "Christina Reed",
         "7329 Stevenson Dale\nCobbfurt, UT 54886",
         "001-445-858-8528x3065",
         "juliagray@hotmail.com",
         "2024-12-02",
         "9999-12-31"
        ],
        [
         1113,
         "Jennifer Thomas",
         "2433 David Freeway\nThomasland, DE 81787",
         "001-142-629-3880x085",
         "smithcrystal@molina-graham.com",
         "2024-11-24",
         "9999-12-31"
        ],
        [
         1114,
         "Russell Cole",
         "32632 Parker Square Apt. 043\nNew Danielfort, NY 92606",
         "001-950-823-4506x97590",
         "sryan@day.com",
         "2024-04-19",
         "9999-12-31"
        ],
        [
         1116,
         "Riley Knox",
         "PSC 3733, Box 4565\nAPO AP 45908",
         "001-877-594-9745x82639",
         "michelleibarra@gmail.com",
         "2024-08-05",
         "9999-12-31"
        ],
        [
         1117,
         "Jeremiah Gomez",
         "89496 Oneill Station\nCatherinechester, MD 97910",
         "537-690-3413x568",
         "curryjames@rosales.com",
         "2024-02-18",
         "9999-12-31"
        ],
        [
         1118,
         "Mary Morse",
         "111 Thomas Hill Apt. 374\nPatriciafort, GA 64630",
         "+1-087-088-7843",
         "melaniewillis@hotmail.com",
         "2024-10-15",
         "9999-12-31"
        ],
        [
         1121,
         "Jacob Davis",
         "81113 Karen Lakes\nChelseaborough, RI 21193",
         "628.326.0161x5057",
         "lreyes@brandt.biz",
         "2024-08-01",
         "9999-12-31"
        ],
        [
         1122,
         "Sharon Fitzgerald",
         "55564 Thomas Harbors\nWilliamfurt, MN 54496",
         "915.421.4711",
         "evanspamela@hall.biz",
         "2024-02-25",
         "9999-12-31"
        ],
        [
         1124,
         "John Jenkins",
         "9106 Phillips Pike Suite 489\nNorth Jesseberg, ME 35108",
         "461-290-9254",
         "ywilliams@reyes.com",
         "2024-10-01",
         "9999-12-31"
        ],
        [
         1125,
         "Caitlin Walker",
         "25730 Jordan Glens\nNatashaburgh, TX 14127",
         "159-567-2409x914",
         "marksimpson@yahoo.com",
         "2024-03-20",
         "9999-12-31"
        ],
        [
         1128,
         "Sheila Smith",
         "832 Moore Causeway Apt. 295\nPetersonport, NE 70527",
         "847.582.6112x46147",
         "glassgabrielle@shaffer.net",
         "2024-10-22",
         "9999-12-31"
        ],
        [
         1131,
         "Jonathon Garcia",
         "852 Cohen Knolls\nBaileyberg, FL 50623",
         "694-165-4868x8928",
         "durannicholas@cruz.com",
         "2024-02-10",
         "9999-12-31"
        ],
        [
         1132,
         "Jason Johnson",
         "0822 Hayes Run Apt. 230\nJohnberg, OK 59668",
         "(674)707-8307x2244",
         "wkhan@hotmail.com",
         "2024-10-16",
         "9999-12-31"
        ],
        [
         1133,
         "Alexis Andersen",
         "835 Baldwin Hill\nWilliamview, MS 81351",
         "412-710-7880x06641",
         "sharismith@potter-martinez.org",
         "2024-11-15",
         "9999-12-31"
        ],
        [
         1135,
         "Laura Garcia",
         "Unit 7049 Box 6746\nDPO AE 57337",
         "+1-219-330-3482",
         "heatherjones@fisher-simpson.com",
         "2024-01-23",
         "9999-12-31"
        ],
        [
         1136,
         "Paula Wallace",
         "7685 Stephenson Wells\nRogersfort, WA 25907",
         "851.488.7590",
         "michael51@hotmail.com",
         "2024-04-01",
         "9999-12-31"
        ],
        [
         1137,
         "Melissa Williams",
         "092 Michael Camp Apt. 547\nNew Jonathanmouth, OK 25320",
         "944.753.2471x9620",
         "umiller@church.com",
         "2024-11-23",
         "9999-12-31"
        ],
        [
         1138,
         "Mr. Nicholas Rhodes",
         "8514 Jeremiah Plaza\nTerrybury, CT 21986",
         "722.429.8400",
         "susanbailey@yahoo.com",
         "2024-03-20",
         "9999-12-31"
        ],
        [
         1139,
         "Monique Jones",
         "065 Heather Route\nWest Andreafort, CA 50012",
         "1399509257",
         "christopherrodriguez@ferguson.com",
         "2024-10-07",
         "9999-12-31"
        ],
        [
         1140,
         "Bryan Lowe",
         "8557 Pamela Squares\nSouth Michaeltown, MT 09574",
         "338.246.7463x1880",
         "jonesrachael@obrien-george.com",
         "2024-07-19",
         "9999-12-31"
        ],
        [
         1141,
         "Charles Jimenez",
         "283 Fitzpatrick Shoals\nSouth Tina, OH 10782",
         "(050)207-9153",
         "rscott@yahoo.com",
         "2024-07-26",
         "9999-12-31"
        ],
        [
         1142,
         "Jose Thompson",
         "Unit 7648 Box 9504\nDPO AP 14164",
         "0928875051",
         "aaronbaldwin@hensley-vargas.com",
         "2024-10-30",
         "9999-12-31"
        ],
        [
         1143,
         "Thomas Trevino",
         "8984 Jones Well Apt. 442\nDavisland, CA 21129",
         "001-533-877-8707x1893",
         "mistymckenzie@ingram.com",
         "2024-01-14",
         "9999-12-31"
        ],
        [
         1144,
         "Tamara Mckee",
         "07920 Robert Road Suite 591\nEast Robynstad, CA 09005",
         "0306655132",
         "dgibson@hotmail.com",
         "2024-05-01",
         "9999-12-31"
        ],
        [
         1145,
         "Phillip Johnson",
         "7182 William Summit\nFordbury, AR 60752",
         "001-964-581-6969x374",
         "david13@gmail.com",
         "2024-06-08",
         "9999-12-31"
        ],
        [
         1146,
         "Austin Miller",
         "069 Karen Roads Apt. 535\nSouth David, MA 33754",
         "6120286418",
         "zcarney@yahoo.com",
         "2024-11-12",
         "9999-12-31"
        ],
        [
         1148,
         "Susan Flores",
         "11958 Monique Radial\nGregoryton, NH 84504",
         "+1-519-930-7580x41920",
         "bernardgregory@howell.com",
         "2024-05-22",
         "9999-12-31"
        ],
        [
         1149,
         "Terri Aguilar",
         "Unit 6245 Box 6703\nDPO AA 27816",
         "001-789-502-2055x8699",
         "victorroth@richardson-brown.com",
         "2024-11-12",
         "9999-12-31"
        ],
        [
         1001,
         "Michelle Mcbride",
         "0613 Sanders Islands Suite 871\nCatherineport, MN 20654",
         "(220)633-2698x716",
         "millergabriella@greene.com",
         "2024-09-10",
         "9999-12-31"
        ],
        [
         1002,
         "Caleb Carter",
         "USNS Young\nFPO AP 70550",
         "(838)696-0925x780",
         "wardjennifer@hotmail.com",
         "2024-03-18",
         "9999-12-31"
        ],
        [
         1006,
         "Jennifer Adams",
         "27070 Young Views Apt. 973\nRussellside, TX 46865",
         "(860)022-1416",
         "todd23@hotmail.com",
         "2024-08-21",
         "9999-12-31"
        ],
        [
         1008,
         "Cameron Patrick",
         "76801 Ruiz Roads\nLisaview, ND 46964",
         "527.433.0454x28798",
         "kathy09@gmail.com",
         "2024-07-15",
         "9999-12-31"
        ],
        [
         1009,
         "Brian Klein",
         "3691 Hall Greens\nEast Jenniferburgh, MA 37230",
         "089.818.6903x976",
         "klambert@gmail.com",
         "2024-08-25",
         "9999-12-31"
        ],
        [
         1012,
         "James Wood",
         "27108 Valenzuela Track\nMclaughlinbury, CA 55514",
         "(238)466-5589x423",
         "paguilar@gmail.com",
         "2024-05-20",
         "9999-12-31"
        ],
        [
         1013,
         "Jeffrey Reid",
         "45623 Carter Road Apt. 269\nPort Brooke, ND 58705",
         "(975)717-8886",
         "williamwilson@franklin.net",
         "2024-03-09",
         "9999-12-31"
        ],
        [
         1014,
         "Stephanie Perez",
         "7888 Lee Station\nRaymondville, NC 92293",
         "896-664-7563x040",
         "curtis83@williams.com",
         "2024-09-28",
         "9999-12-31"
        ],
        [
         1015,
         "Lisa Strickland",
         "USNS Mullins\nFPO AA 32432",
         "(341)883-0965x098",
         "kathyharris@booker-garcia.com",
         "2024-04-01",
         "9999-12-31"
        ],
        [
         1017,
         "Emily Stark",
         "779 John Union\nPort Daniel, KY 36281",
         "(948)584-0349x382",
         "nicole17@yahoo.com",
         "2024-05-01",
         "9999-12-31"
        ],
        [
         1019,
         "Zachary Ramos",
         "99482 Donald Viaduct Suite 025\nEast Michelle, NC 73134",
         "584.260.9761x6212",
         "cheyennebrown@nelson-whitehead.com",
         "2024-07-21",
         "9999-12-31"
        ],
        [
         1021,
         "Christopher Jones",
         "974 Warren Oval Suite 758\nEast Alexandra, MD 97793",
         "106.449.4907x68325",
         "khernandez@little.info",
         "2024-05-10",
         "9999-12-31"
        ],
        [
         1022,
         "Brenda Simpson",
         "0274 Simmons Views\nNorth Kyle, RI 73851",
         "404.284.9665",
         "johnsamy@simpson.com",
         "2024-12-15",
         "9999-12-31"
        ],
        [
         1023,
         "Krista Wright DDS",
         "4032 Gabriella Plains Apt. 331\nJennifertown, CO 56996",
         "+1-486-643-0471x5433",
         "beth04@hart-green.info",
         "2024-01-27",
         "9999-12-31"
        ]
       ],
       "datasetInfos": [],
       "dbfsResultPath": null,
       "isJsonSchema": true,
       "metadata": {},
       "overflow": false,
       "plotOptions": {
        "customPlotOptions": {},
        "displayType": "table",
        "pivotAggregation": null,
        "pivotColumns": null,
        "xColumns": null,
        "yColumns": null
       },
       "removedWidgets": [],
       "schema": [
        {
         "metadata": "{}",
         "name": "customer_id",
         "type": "\"integer\""
        },
        {
         "metadata": "{}",
         "name": "customer_name",
         "type": "\"string\""
        },
        {
         "metadata": "{}",
         "name": "customer_address",
         "type": "\"string\""
        },
        {
         "metadata": "{}",
         "name": "phone_number",
         "type": "\"string\""
        },
        {
         "metadata": "{}",
         "name": "email",
         "type": "\"string\""
        },
        {
         "metadata": "{\"__detected_date_formats\":\"yyyy-M-d\"}",
         "name": "valid_from",
         "type": "\"date\""
        },
        {
         "metadata": "{\"__detected_date_formats\":\"yyyy-M-d\"}",
         "name": "valid_to",
         "type": "\"date\""
        }
       ],
       "type": "table"
      }
     },
     "output_type": "display_data"
    },
    {
     "output_type": "stream",
     "name": "stderr",
     "output_type": "stream",
     "text": [
      "/databricks/spark/python/pyspark/sql/dataframe.py:159: UserWarning: DataFrame constructor is internal. Do not directly use it.\n  warnings.warn(\"DataFrame constructor is internal. Do not directly use it.\")\n"
     ]
    },
    {
     "output_type": "display_data",
     "data": {
      "text/html": [
       "<style scoped>\n",
       "  .table-result-container {\n",
       "    max-height: 300px;\n",
       "    overflow: auto;\n",
       "  }\n",
       "  table, th, td {\n",
       "    border: 1px solid black;\n",
       "    border-collapse: collapse;\n",
       "  }\n",
       "  th, td {\n",
       "    padding: 5px;\n",
       "  }\n",
       "  th {\n",
       "    text-align: left;\n",
       "  }\n",
       "</style><div class='table-result-container'><table class='table-result'><thead style='background-color: white'><tr><th>check</th><th>check_level</th><th>check_status</th><th>constraint</th><th>constraint_status</th><th>constraint_message</th></tr></thead><tbody><tr><td>Booking Data Check</td><td>Error</td><td>Success</td><td>SizeConstraint(Size(None))</td><td>Success</td><td></td></tr><tr><td>Booking Data Check</td><td>Error</td><td>Success</td><td>UniquenessConstraint(Uniqueness(List(booking_id),None,None))</td><td>Success</td><td></td></tr><tr><td>Booking Data Check</td><td>Error</td><td>Success</td><td>CompletenessConstraint(Completeness(customer_id,None,None))</td><td>Success</td><td></td></tr><tr><td>Booking Data Check</td><td>Error</td><td>Success</td><td>CompletenessConstraint(Completeness(amount,None,None))</td><td>Success</td><td></td></tr><tr><td>Booking Data Check</td><td>Error</td><td>Success</td><td>ComplianceConstraint(Compliance(amount is non-negative,COALESCE(CAST(amount AS DECIMAL(20,10)), 0.0) >= 0,None,List(amount),None))</td><td>Success</td><td></td></tr><tr><td>Booking Data Check</td><td>Error</td><td>Success</td><td>ComplianceConstraint(Compliance(quantity is non-negative,COALESCE(CAST(quantity AS DECIMAL(20,10)), 0.0) >= 0,None,List(quantity),None))</td><td>Success</td><td></td></tr><tr><td>Booking Data Check</td><td>Error</td><td>Success</td><td>ComplianceConstraint(Compliance(discount is non-negative,COALESCE(CAST(discount AS DECIMAL(20,10)), 0.0) >= 0,None,List(discount),None))</td><td>Success</td><td></td></tr></tbody></table></div>"
      ]
     },
     "metadata": {
      "application/vnd.databricks.v1+output": {
       "addedWidgets": {},
       "aggData": [],
       "aggError": "",
       "aggOverflow": false,
       "aggSchema": [],
       "aggSeriesLimitReached": false,
       "aggType": "",
       "arguments": {},
       "columnCustomDisplayInfos": {},
       "data": [
        [
         "Booking Data Check",
         "Error",
         "Success",
         "SizeConstraint(Size(None))",
         "Success",
         ""
        ],
        [
         "Booking Data Check",
         "Error",
         "Success",
         "UniquenessConstraint(Uniqueness(List(booking_id),None,None))",
         "Success",
         ""
        ],
        [
         "Booking Data Check",
         "Error",
         "Success",
         "CompletenessConstraint(Completeness(customer_id,None,None))",
         "Success",
         ""
        ],
        [
         "Booking Data Check",
         "Error",
         "Success",
         "CompletenessConstraint(Completeness(amount,None,None))",
         "Success",
         ""
        ],
        [
         "Booking Data Check",
         "Error",
         "Success",
         "ComplianceConstraint(Compliance(amount is non-negative,COALESCE(CAST(amount AS DECIMAL(20,10)), 0.0) >= 0,None,List(amount),None))",
         "Success",
         ""
        ],
        [
         "Booking Data Check",
         "Error",
         "Success",
         "ComplianceConstraint(Compliance(quantity is non-negative,COALESCE(CAST(quantity AS DECIMAL(20,10)), 0.0) >= 0,None,List(quantity),None))",
         "Success",
         ""
        ],
        [
         "Booking Data Check",
         "Error",
         "Success",
         "ComplianceConstraint(Compliance(discount is non-negative,COALESCE(CAST(discount AS DECIMAL(20,10)), 0.0) >= 0,None,List(discount),None))",
         "Success",
         ""
        ]
       ],
       "datasetInfos": [],
       "dbfsResultPath": null,
       "isJsonSchema": true,
       "metadata": {},
       "overflow": false,
       "plotOptions": {
        "customPlotOptions": {},
        "displayType": "table",
        "pivotAggregation": null,
        "pivotColumns": null,
        "xColumns": null,
        "yColumns": null
       },
       "removedWidgets": [],
       "schema": [
        {
         "metadata": "{}",
         "name": "check",
         "type": "\"string\""
        },
        {
         "metadata": "{}",
         "name": "check_level",
         "type": "\"string\""
        },
        {
         "metadata": "{}",
         "name": "check_status",
         "type": "\"string\""
        },
        {
         "metadata": "{}",
         "name": "constraint",
         "type": "\"string\""
        },
        {
         "metadata": "{}",
         "name": "constraint_status",
         "type": "\"string\""
        },
        {
         "metadata": "{}",
         "name": "constraint_message",
         "type": "\"string\""
        }
       ],
       "type": "table"
      }
     },
     "output_type": "display_data"
    },
    {
     "output_type": "display_data",
     "data": {
      "text/html": [
       "<style scoped>\n",
       "  .table-result-container {\n",
       "    max-height: 300px;\n",
       "    overflow: auto;\n",
       "  }\n",
       "  table, th, td {\n",
       "    border: 1px solid black;\n",
       "    border-collapse: collapse;\n",
       "  }\n",
       "  th, td {\n",
       "    padding: 5px;\n",
       "  }\n",
       "  th {\n",
       "    text-align: left;\n",
       "  }\n",
       "</style><div class='table-result-container'><table class='table-result'><thead style='background-color: white'><tr><th>check</th><th>check_level</th><th>check_status</th><th>constraint</th><th>constraint_status</th><th>constraint_message</th></tr></thead><tbody><tr><td>Customer Data Check</td><td>Error</td><td>Error</td><td>SizeConstraint(Size(None))</td><td>Success</td><td></td></tr><tr><td>Customer Data Check</td><td>Error</td><td>Error</td><td>UniquenessConstraint(Uniqueness(List(customer_id),None,None))</td><td>Success</td><td></td></tr><tr><td>Customer Data Check</td><td>Error</td><td>Error</td><td>CompletenessConstraint(Completeness(customer_name,None,None))</td><td>Success</td><td></td></tr><tr><td>Customer Data Check</td><td>Error</td><td>Error</td><td>CompletenessConstraint(Completeness(customer_address,None,None))</td><td>Success</td><td></td></tr><tr><td>Customer Data Check</td><td>Error</td><td>Error</td><td>CompletenessConstraint(Completeness(phone_number,None,None))</td><td>Failure</td><td>Value: 0.9885057471264368 does not meet the constraint requirement!</td></tr><tr><td>Customer Data Check</td><td>Error</td><td>Error</td><td>CompletenessConstraint(Completeness(email,None,None))</td><td>Success</td><td></td></tr></tbody></table></div>"
      ]
     },
     "metadata": {
      "application/vnd.databricks.v1+output": {
       "addedWidgets": {},
       "aggData": [],
       "aggError": "",
       "aggOverflow": false,
       "aggSchema": [],
       "aggSeriesLimitReached": false,
       "aggType": "",
       "arguments": {},
       "columnCustomDisplayInfos": {},
       "data": [
        [
         "Customer Data Check",
         "Error",
         "Error",
         "SizeConstraint(Size(None))",
         "Success",
         ""
        ],
        [
         "Customer Data Check",
         "Error",
         "Error",
         "UniquenessConstraint(Uniqueness(List(customer_id),None,None))",
         "Success",
         ""
        ],
        [
         "Customer Data Check",
         "Error",
         "Error",
         "CompletenessConstraint(Completeness(customer_name,None,None))",
         "Success",
         ""
        ],
        [
         "Customer Data Check",
         "Error",
         "Error",
         "CompletenessConstraint(Completeness(customer_address,None,None))",
         "Success",
         ""
        ],
        [
         "Customer Data Check",
         "Error",
         "Error",
         "CompletenessConstraint(Completeness(phone_number,None,None))",
         "Failure",
         "Value: 0.9885057471264368 does not meet the constraint requirement!"
        ],
        [
         "Customer Data Check",
         "Error",
         "Error",
         "CompletenessConstraint(Completeness(email,None,None))",
         "Success",
         ""
        ]
       ],
       "datasetInfos": [],
       "dbfsResultPath": null,
       "isJsonSchema": true,
       "metadata": {},
       "overflow": false,
       "plotOptions": {
        "customPlotOptions": {},
        "displayType": "table",
        "pivotAggregation": null,
        "pivotColumns": null,
        "xColumns": null,
        "yColumns": null
       },
       "removedWidgets": [],
       "schema": [
        {
         "metadata": "{}",
         "name": "check",
         "type": "\"string\""
        },
        {
         "metadata": "{}",
         "name": "check_level",
         "type": "\"string\""
        },
        {
         "metadata": "{}",
         "name": "check_status",
         "type": "\"string\""
        },
        {
         "metadata": "{}",
         "name": "constraint",
         "type": "\"string\""
        },
        {
         "metadata": "{}",
         "name": "constraint_status",
         "type": "\"string\""
        },
        {
         "metadata": "{}",
         "name": "constraint_message",
         "type": "\"string\""
        }
       ],
       "type": "table"
      }
     },
     "output_type": "display_data"
    },
    {
     "output_type": "display_data",
     "data": {
      "text/plain": [
       "\u001B[0;31m---------------------------------------------------------------------------\u001B[0m\n",
       "\u001B[0;31mValueError\u001B[0m                                Traceback (most recent call last)\n",
       "File \u001B[0;32m<command-3884623181828154>, line 82\u001B[0m\n",
       "\u001B[1;32m     79\u001B[0m     \u001B[38;5;28;01mraise\u001B[39;00m \u001B[38;5;167;01mValueError\u001B[39;00m(\u001B[38;5;124m\"\u001B[39m\u001B[38;5;124mData Quality Checks Failed for Booking Data\u001B[39m\u001B[38;5;124m\"\u001B[39m)\n",
       "\u001B[1;32m     81\u001B[0m \u001B[38;5;28;01mif\u001B[39;00m customer_dq_check\u001B[38;5;241m.\u001B[39mstatus \u001B[38;5;241m!=\u001B[39m \u001B[38;5;124m\"\u001B[39m\u001B[38;5;124mSuccess\u001B[39m\u001B[38;5;124m\"\u001B[39m:\n",
       "\u001B[0;32m---> 82\u001B[0m     \u001B[38;5;28;01mraise\u001B[39;00m \u001B[38;5;167;01mValueError\u001B[39;00m(\u001B[38;5;124m\"\u001B[39m\u001B[38;5;124mData Quality Checks Failed for Customer Data\u001B[39m\u001B[38;5;124m\"\u001B[39m)\n",
       "\u001B[1;32m     84\u001B[0m \u001B[38;5;66;03m# Add ingestion timestamp to booking data\u001B[39;00m\n",
       "\u001B[1;32m     85\u001B[0m booking_df_incremental \u001B[38;5;241m=\u001B[39m booking_df\u001B[38;5;241m.\u001B[39mwithColumn(\u001B[38;5;124m\"\u001B[39m\u001B[38;5;124mingestion_time\u001B[39m\u001B[38;5;124m\"\u001B[39m, current_timestamp())\n",
       "\n",
       "\u001B[0;31mValueError\u001B[0m: Data Quality Checks Failed for Customer Data"
      ]
     },
     "metadata": {
      "application/vnd.databricks.v1+output": {
       "addedWidgets": {},
       "arguments": {},
       "datasetInfos": [],
       "jupyterProps": {
        "ename": "ValueError",
        "evalue": "Data Quality Checks Failed for Customer Data"
       },
       "metadata": {
        "errorSummary": "<span class='ansi-red-fg'>ValueError</span>: Data Quality Checks Failed for Customer Data"
       },
       "removedWidgets": [],
       "sqlProps": null,
       "stackFrames": [
        "\u001B[0;31m---------------------------------------------------------------------------\u001B[0m",
        "\u001B[0;31mValueError\u001B[0m                                Traceback (most recent call last)",
        "File \u001B[0;32m<command-3884623181828154>, line 82\u001B[0m\n\u001B[1;32m     79\u001B[0m     \u001B[38;5;28;01mraise\u001B[39;00m \u001B[38;5;167;01mValueError\u001B[39;00m(\u001B[38;5;124m\"\u001B[39m\u001B[38;5;124mData Quality Checks Failed for Booking Data\u001B[39m\u001B[38;5;124m\"\u001B[39m)\n\u001B[1;32m     81\u001B[0m \u001B[38;5;28;01mif\u001B[39;00m customer_dq_check\u001B[38;5;241m.\u001B[39mstatus \u001B[38;5;241m!=\u001B[39m \u001B[38;5;124m\"\u001B[39m\u001B[38;5;124mSuccess\u001B[39m\u001B[38;5;124m\"\u001B[39m:\n\u001B[0;32m---> 82\u001B[0m     \u001B[38;5;28;01mraise\u001B[39;00m \u001B[38;5;167;01mValueError\u001B[39;00m(\u001B[38;5;124m\"\u001B[39m\u001B[38;5;124mData Quality Checks Failed for Customer Data\u001B[39m\u001B[38;5;124m\"\u001B[39m)\n\u001B[1;32m     84\u001B[0m \u001B[38;5;66;03m# Add ingestion timestamp to booking data\u001B[39;00m\n\u001B[1;32m     85\u001B[0m booking_df_incremental \u001B[38;5;241m=\u001B[39m booking_df\u001B[38;5;241m.\u001B[39mwithColumn(\u001B[38;5;124m\"\u001B[39m\u001B[38;5;124mingestion_time\u001B[39m\u001B[38;5;124m\"\u001B[39m, current_timestamp())\n",
        "\u001B[0;31mValueError\u001B[0m: Data Quality Checks Failed for Customer Data"
       ],
       "type": "baseError"
      }
     },
     "output_type": "display_data"
    }
   ],
   "source": [
    "from pyspark.sql.functions import col, lit, current_timestamp, sum as _sum\n",
    "from delta.tables import DeltaTable\n",
    "from pydeequ.checks import Check, CheckLevel\n",
    "from pydeequ.verification import VerificationSuite, VerificationResult\n",
    "import os\n",
    "\n",
    "print(os.environ['SPARK_VERSION'])\n",
    "\n",
    "# Get job parameters from Databricks\n",
    "date_str = dbutils.widgets.get(\"current_date\")\n",
    "# date_str = \"2024-07-26\"\n",
    "\n",
    "# Define file paths based on date parameter\n",
    "booking_data = f\"dbfs:/DataEngineering/bookings_daily_data/bookings_{date_str}.csv\"\n",
    "customer_data = f\"dbfs:/DataEngineering/customers_daily_data/customers_{date_str}.csv\"\n",
    "print(booking_data)\n",
    "print(customer_data)\n",
    "\n",
    "# Read booking data\n",
    "booking_df = spark.read \\\n",
    "    .format(\"csv\") \\\n",
    "    .option(\"header\", \"true\") \\\n",
    "    .option(\"inferSchema\", \"true\") \\\n",
    "    .option(\"quote\", \"\\\"\") \\\n",
    "    .option(\"multiLine\", \"true\") \\\n",
    "    .load(booking_data)\n",
    "\n",
    "booking_df.printSchema()\n",
    "display(booking_data)\n",
    "\n",
    "# Read customer data for scd2 merge\n",
    "customer_df = spark.read \\\n",
    "    .format(\"csv\") \\\n",
    "    .option(\"header\", \"true\") \\\n",
    "    .option(\"inferSchema\", \"true\") \\\n",
    "    .option(\"quote\", \"\\\"\") \\\n",
    "    .option(\"multiLine\", \"true\") \\\n",
    "    .load(customer_data)\n",
    "\n",
    "customer_df.printSchema()\n",
    "display(customer_df)\n",
    "\n",
    "# Data Quality Checks on booking data\n",
    "check_incremental = Check(spark, CheckLevel.Error, \"Booking Data Check\") \\\n",
    "    .hasSize(lambda x: x > 0) \\\n",
    "    .isUnique(\"booking_id\", hint=\"Booking ID is not unique throught\") \\\n",
    "    .isComplete(\"customer_id\") \\\n",
    "    .isComplete(\"amount\") \\\n",
    "    .isNonNegative(\"amount\") \\\n",
    "    .isNonNegative(\"quantity\") \\\n",
    "    .isNonNegative(\"discount\")\n",
    "\n",
    "# Data Quality Checks on customer data\n",
    "check_scd = Check(spark, CheckLevel.Error, \"Customer Data Check\") \\\n",
    "    .hasSize(lambda x: x > 0) \\\n",
    "    .isUnique(\"customer_id\") \\\n",
    "    .isComplete(\"customer_name\") \\\n",
    "    .isComplete(\"customer_address\") \\\n",
    "    .isComplete(\"phone_number\") \\\n",
    "    .isComplete(\"email\")\n",
    "\n",
    "# Run the verification suite\n",
    "booking_dq_check = VerificationSuite(spark) \\\n",
    "    .onData(booking_df) \\\n",
    "    .addCheck(check_incremental) \\\n",
    "    .run()\n",
    "\n",
    "customer_dq_check = VerificationSuite(spark) \\\n",
    "    .onData(customer_df) \\\n",
    "    .addCheck(check_scd) \\\n",
    "    .run()\n",
    "\n",
    "booking_dq_check_df = VerificationResult.checkResultsAsDataFrame(spark, booking_dq_check)\n",
    "display(booking_dq_check_df)\n",
    "\n",
    "customer_dq_check_df = VerificationResult.checkResultsAsDataFrame(spark, customer_dq_check)\n",
    "display(customer_dq_check_df)\n",
    "\n",
    "# Check if verification passed\n",
    "if booking_dq_check.status != \"Success\":\n",
    "    raise ValueError(\"Data Quality Checks Failed for Booking Data\")\n",
    "\n",
    "if customer_dq_check.status != \"Success\":\n",
    "    raise ValueError(\"Data Quality Checks Failed for Customer Data\")\n",
    "\n",
    "# Add ingestion timestamp to booking data\n",
    "booking_df_incremental = booking_df.withColumn(\"ingestion_time\", current_timestamp())\n",
    "\n",
    "# Join booking data with customer data\n",
    "df_joined = booking_df_incremental.join(customer_df, \"customer_id\")\n",
    "\n",
    "# Business transformation: calculate total cost after discount and filter\n",
    "df_transformed = df_joined \\\n",
    "    .withColumn(\"total_cost\", col(\"amount\") - col(\"discount\")) \\\n",
    "    .filter(col(\"quantity\") > 0)\n",
    "\n",
    "# Group by and aggregate df_transformed\n",
    "df_transformed_agg = df_transformed \\\n",
    "    .groupBy(\"booking_type\", \"customer_id\") \\\n",
    "    .agg(\n",
    "        _sum(\"total_cost\").alias(\"total_amount_sum\"),\n",
    "        _sum(\"quantity\").alias(\"total_quantity_sum\")\n",
    "    )\n",
    "\n",
    "# Check if the Delta table exists\n",
    "fact_table_path = \"gds_de_bootcamp.default.booking_fact\"\n",
    "fact_table_exists = spark._jsparkSession.catalog().tableExists(fact_table_path)\n",
    "\n",
    "if fact_table_exists:\n",
    "    # Read the existing fact table\n",
    "    df_existing_fact = spark.read.format(\"delta\").table(fact_table_path)\n",
    "    \n",
    "    # Combine the aggregated data\n",
    "    df_combined = df_existing_fact.unionByName(df_transformed_agg, allowMissingColumns=True)\n",
    "    \n",
    "    # Perform another group by and aggregation on the combined data\n",
    "    df_final_agg = df_combined \\\n",
    "        .groupBy(\"booking_type\", \"customer_id\") \\\n",
    "        .agg(\n",
    "            _sum(\"total_amount_sum\").alias(\"total_amount_sum\"),\n",
    "            _sum(\"total_quantity_sum\").alias(\"total_quantity_sum\")\n",
    "        )\n",
    "else:\n",
    "    # If the fact table doesn't exist, use the aggregated transformed data directly\n",
    "    df_final_agg = df_transformed_agg\n",
    "\n",
    "display(df_final_agg)\n",
    "\n",
    "# Write the final aggregated data back to the Delta table\n",
    "df_final_agg.write \\\n",
    "    .format(\"delta\") \\\n",
    "    .mode(\"overwrite\") \\\n",
    "    .option(\"overwriteSchema\", \"true\") \\\n",
    "    .saveAsTable(fact_table_path)\n",
    "\n",
    "scd_table_path = \"gds_de_bootcamp.default.customer_scd\"\n",
    "scd_table_exists = spark._jsparkSession.catalog().tableExists(scd_table_path)\n",
    "\n",
    "# Check if the customers table exists\n",
    "if scd_table_exists:\n",
    "    # Load the existing SCD table\n",
    "    scd_table = DeltaTable.forName(spark, scd_table_path)\n",
    "    display(scd_table.toDF())\n",
    "    \n",
    "    # Perform SCD2 merge logic\n",
    "    scd_table.alias(\"scd\") \\\n",
    "        .merge(\n",
    "            source=customer_df.alias(\"updates\"),\n",
    "            condition=\"scd.customer_id = updates.customer_id and scd.valid_to = '9999-12-31'\"\n",
    "        ) \\\n",
    "        .whenMatchedUpdate(set={\n",
    "            \"valid_to\": \"updates.valid_from\",\n",
    "        }) \\\n",
    "        .execute()\n",
    "\n",
    "    customer_df.write.format(\"delta\").mode(\"append\").saveAsTable(scd_table_path)\n",
    "else:\n",
    "    # If the SCD table doesn't exist, write the customer data as a new Delta table\n",
    "    customer_df.write.format(\"delta\").mode(\"overwrite\").saveAsTable(scd_table_path)\n"
   ]
  },
  {
   "cell_type": "code",
   "execution_count": 0,
   "metadata": {
    "application/vnd.databricks.v1+cell": {
     "cellMetadata": {
      "byteLimit": 2048000,
      "implicitDf": true,
      "rowLimit": 10000
     },
     "inputWidgets": {},
     "nuid": "3242a627-f2bf-4eb4-9e8b-5d84738bf691",
     "showTitle": false,
     "title": ""
    }
   },
   "outputs": [
    {
     "output_type": "display_data",
     "data": {
      "text/html": [
       "<style scoped>\n",
       "  .table-result-container {\n",
       "    max-height: 300px;\n",
       "    overflow: auto;\n",
       "  }\n",
       "  table, th, td {\n",
       "    border: 1px solid black;\n",
       "    border-collapse: collapse;\n",
       "  }\n",
       "  th, td {\n",
       "    padding: 5px;\n",
       "  }\n",
       "  th {\n",
       "    text-align: left;\n",
       "  }\n",
       "</style><div class='table-result-container'><table class='table-result'><thead style='background-color: white'><tr></tr></thead><tbody></tbody></table></div>"
      ]
     },
     "metadata": {
      "application/vnd.databricks.v1+output": {
       "addedWidgets": {},
       "aggData": [],
       "aggError": "",
       "aggOverflow": false,
       "aggSchema": [],
       "aggSeriesLimitReached": false,
       "aggType": "",
       "arguments": {},
       "columnCustomDisplayInfos": {},
       "data": [],
       "datasetInfos": [],
       "dbfsResultPath": null,
       "isJsonSchema": true,
       "metadata": {
        "dataframeName": null
       },
       "overflow": false,
       "plotOptions": {
        "customPlotOptions": {},
        "displayType": "table",
        "pivotAggregation": null,
        "pivotColumns": null,
        "xColumns": null,
        "yColumns": null
       },
       "removedWidgets": [],
       "schema": [],
       "type": "table"
      }
     },
     "output_type": "display_data"
    }
   ],
   "source": [
    "# %sql\n",
    "# DROP TABLE gds_de_bootcamp.default.booking_fact"
   ]
  },
  {
   "cell_type": "code",
   "execution_count": 0,
   "metadata": {
    "application/vnd.databricks.v1+cell": {
     "cellMetadata": {
      "byteLimit": 2048000,
      "rowLimit": 10000
     },
     "inputWidgets": {},
     "nuid": "966be689-2325-4589-92cf-27a07e2dbc57",
     "showTitle": false,
     "title": ""
    }
   },
   "outputs": [
    {
     "output_type": "display_data",
     "data": {
      "text/html": [
       "<style scoped>\n",
       "  .table-result-container {\n",
       "    max-height: 300px;\n",
       "    overflow: auto;\n",
       "  }\n",
       "  table, th, td {\n",
       "    border: 1px solid black;\n",
       "    border-collapse: collapse;\n",
       "  }\n",
       "  th, td {\n",
       "    padding: 5px;\n",
       "  }\n",
       "  th {\n",
       "    text-align: left;\n",
       "  }\n",
       "</style><div class='table-result-container'><table class='table-result'><thead style='background-color: white'><tr><th>customer_id</th><th>customer_name</th><th>customer_address</th><th>phone_number</th><th>email</th><th>valid_from</th><th>valid_to</th></tr></thead><tbody><tr><td>1026</td><td>Lori Odom</td><td>66894 Pamela Ridge Apt. 701\n",
       "Wilsonport, NV 55859</td><td>null</td><td>santanachristopher@wilson-bailey.com</td><td>2024-01-30</td><td>9999-12-31</td></tr><tr><td>1030</td><td>David Odonnell</td><td>USNV Simmons\n",
       "FPO AE 08244</td><td>6864684148</td><td>kathleen41@hotmail.com</td><td>2024-08-30</td><td>9999-12-31</td></tr><tr><td>1035</td><td>Cheryl Weaver</td><td>3716 Cunningham Station Apt. 567\n",
       "Davidborough, TX 41021</td><td>893.223.0773x3326</td><td>smithcatherine@yahoo.com</td><td>2024-03-07</td><td>9999-12-31</td></tr><tr><td>1036</td><td>Rebecca Johnson</td><td>674 Bishop Mission\n",
       "Suzannebury, NY 90306</td><td>018.713.0054x360</td><td>carol33@holt-higgins.info</td><td>2024-05-25</td><td>9999-12-31</td></tr><tr><td>1037</td><td>Lisa Hill</td><td>6720 Brittany Streets\n",
       "Lake Sabrinaview, IN 22990</td><td>(646)830-3919x64651</td><td>cory15@hotmail.com</td><td>2024-11-01</td><td>9999-12-31</td></tr><tr><td>1038</td><td>Aaron Cooper</td><td>37842 Haynes Isle Suite 421\n",
       "South Marisa, PA 75690</td><td>249-334-3781x7626</td><td>crystal91@henderson-lane.net</td><td>2024-11-26</td><td>9999-12-31</td></tr><tr><td>1039</td><td>Betty Andrews</td><td>Unit 9441 Box 7301\n",
       "DPO AA 92892</td><td>(055)647-0735</td><td>avilacody@yahoo.com</td><td>2024-04-10</td><td>9999-12-31</td></tr><tr><td>1047</td><td>Edward Stone</td><td>31740 Martinez Trace\n",
       "Jonesview, NC 49949</td><td>884.266.5166x7808</td><td>zwhite@hotmail.com</td><td>2024-03-31</td><td>9999-12-31</td></tr><tr><td>1048</td><td>James Myers</td><td>78527 Kelly Corner\n",
       "Powellbury, FL 03544</td><td>001-403-398-8094</td><td>vyoder@wiley-jones.com</td><td>2024-08-06</td><td>9999-12-31</td></tr><tr><td>1050</td><td>Scott Freeman</td><td>528 John Hollow\n",
       "Theresabury, SC 37328</td><td>0970621868</td><td>emily78@gmail.com</td><td>2024-01-24</td><td>9999-12-31</td></tr><tr><td>1053</td><td>Robert Pratt</td><td>9189 Christine Divide\n",
       "Port Edward, OH 51538</td><td>020.465.4390</td><td>anthony28@hotmail.com</td><td>2024-11-06</td><td>9999-12-31</td></tr><tr><td>1054</td><td>Ronald Sharp</td><td>027 King Forest\n",
       "East Megan, WV 86035</td><td>665.459.2000x4188</td><td>christophergarcia@yahoo.com</td><td>2024-01-29</td><td>9999-12-31</td></tr><tr><td>1056</td><td>Courtney Gomez</td><td>3891 Mcdonald Grove Apt. 869\n",
       "Lake Latoyabury, NJ 14390</td><td>4457130347</td><td>markgreen@mitchell.com</td><td>2024-04-20</td><td>9999-12-31</td></tr><tr><td>1057</td><td>Scott Mason</td><td>108 Angela Via Suite 828\n",
       "North Thomas, AZ 36777</td><td>598.565.6459x188</td><td>debra31@carter.com</td><td>2024-04-21</td><td>9999-12-31</td></tr><tr><td>1058</td><td>Jorge Ortega</td><td>USCGC Burns\n",
       "FPO AA 09606</td><td>(680)662-4877x04969</td><td>michelleglass@gmail.com</td><td>2024-07-30</td><td>9999-12-31</td></tr><tr><td>1062</td><td>Jack Wood</td><td>PSC 4226, Box 5476\n",
       "APO AA 60249</td><td>(439)936-5825</td><td>daniel35@griffin-adams.info</td><td>2024-08-30</td><td>9999-12-31</td></tr><tr><td>1064</td><td>Chelsea Clark</td><td>671 Frazier Stravenue\n",
       "Jamesborough, MA 35967</td><td>455.151.6928</td><td>marshallstephanie@gmail.com</td><td>2024-07-14</td><td>9999-12-31</td></tr><tr><td>1065</td><td>Anthony Moore</td><td>58492 Moore Circles\n",
       "North Oscarland, AK 48584</td><td>(232)517-2974x49987</td><td>vhart@gmail.com</td><td>2024-09-28</td><td>9999-12-31</td></tr><tr><td>1066</td><td>Adam Adams</td><td>USS Hall\n",
       "FPO AE 84729</td><td>001-478-168-9105</td><td>hdaniel@yahoo.com</td><td>2024-07-05</td><td>9999-12-31</td></tr><tr><td>1067</td><td>Tony Vincent</td><td>30698 Carol Square Apt. 356\n",
       "Baileyberg, WI 85207</td><td>(817)155-1702</td><td>scooley@white.org</td><td>2024-07-12</td><td>9999-12-31</td></tr><tr><td>1070</td><td>Jacob Harris</td><td>156 Barbara Isle\n",
       "Port Sergio, OK 76030</td><td>+1-942-233-6560x0367</td><td>danielleweber@gmail.com</td><td>2024-08-10</td><td>9999-12-31</td></tr><tr><td>1074</td><td>Steven Williams</td><td>USCGC Barton\n",
       "FPO AP 04123</td><td>+1-712-164-2330x8887</td><td>michaelmiles@joseph.info</td><td>2024-04-28</td><td>9999-12-31</td></tr><tr><td>1077</td><td>Dr. Amanda Cochran</td><td>USNS Cunningham\n",
       "FPO AE 51113</td><td>+1-964-993-3920x3202</td><td>williamskathleen@ramirez-alexander.com</td><td>2024-08-18</td><td>9999-12-31</td></tr><tr><td>1081</td><td>Lindsay Wilson</td><td>797 Lisa River Suite 866\n",
       "West Carolbury, KS 44892</td><td>(207)272-3996x79818</td><td>christine79@taylor.net</td><td>2024-04-02</td><td>9999-12-31</td></tr><tr><td>1083</td><td>Jocelyn Montgomery</td><td>140 Taylor Way\n",
       "Jeremybury, CO 91712</td><td>695-126-5223</td><td>stephaniewelch@haas.biz</td><td>2024-12-25</td><td>9999-12-31</td></tr><tr><td>1085</td><td>Alvin Walsh</td><td>4112 Spears Centers\n",
       "Robertton, AL 68222</td><td>(267)390-6828x89534</td><td>wcampbell@gmail.com</td><td>2024-04-13</td><td>9999-12-31</td></tr><tr><td>1086</td><td>Aaron Mcdowell</td><td>46192 Patrick Well Suite 484\n",
       "Nicholasberg, MD 44026</td><td>+1-500-357-4351</td><td>stephen36@brown.com</td><td>2024-04-28</td><td>9999-12-31</td></tr><tr><td>1087</td><td>Justin Rowe</td><td>5753 Brian Way\n",
       "Pattystad, OK 45929</td><td>001-549-169-1682x19781</td><td>robert67@yahoo.com</td><td>2024-08-10</td><td>9999-12-31</td></tr><tr><td>1088</td><td>Cynthia Williams</td><td>870 Keith Plaza Apt. 880\n",
       "Port Dianaland, AK 54229</td><td>+1-330-472-1846x00448</td><td>elizabethlynch@brown.info</td><td>2024-06-10</td><td>9999-12-31</td></tr><tr><td>1089</td><td>Brandon Macias</td><td>602 Jennifer Village Apt. 297\n",
       "Bassberg, OH 66020</td><td>(701)194-6449x59349</td><td>xmartinez@yahoo.com</td><td>2024-07-06</td><td>9999-12-31</td></tr><tr><td>1090</td><td>Johnathan Meyer</td><td>006 Sarah Village\n",
       "Norrisside, ID 58412</td><td>328.284.4441x211</td><td>ihowe@frederick.info</td><td>2024-07-01</td><td>9999-12-31</td></tr><tr><td>1095</td><td>Jeffrey Becker</td><td>Unit 7106 Box 4307\n",
       "DPO AP 54542</td><td>001-636-040-1136x95849</td><td>samanthaandersen@reynolds-nichols.info</td><td>2024-07-09</td><td>9999-12-31</td></tr><tr><td>1096</td><td>Holly Medina</td><td>2648 Jackson Lakes Suite 767\n",
       "Aliciahaven, VA 52977</td><td>(875)340-1444</td><td>alanmolina@doyle.com</td><td>2024-07-29</td><td>9999-12-31</td></tr><tr><td>1097</td><td>Carrie Levy</td><td>53894 Lauren Vista\n",
       "Natalieside, TN 57176</td><td>+1-426-321-0954</td><td>michaelcollier@odonnell.org</td><td>2024-01-26</td><td>9999-12-31</td></tr><tr><td>1098</td><td>Matthew Murphy</td><td>PSC 5614, Box 1870\n",
       "APO AP 94866</td><td>2438925942</td><td>greermichael@yahoo.com</td><td>2024-10-19</td><td>9999-12-31</td></tr><tr><td>1099</td><td>James Welch</td><td>USNS Rhodes\n",
       "FPO AE 19915</td><td>918.910.1041x1076</td><td>amanda62@yahoo.com</td><td>2024-07-28</td><td>9999-12-31</td></tr><tr><td>1101</td><td>Daniel Nichols</td><td>5543 Green Via Apt. 254\n",
       "West Arthur, NV 37882</td><td>0285724877</td><td>martinkatherine@yahoo.com</td><td>2024-03-14</td><td>9999-12-31</td></tr><tr><td>1102</td><td>Brandon Cunningham</td><td>76645 Pittman Village\n",
       "Jonesland, IL 18027</td><td>+1-611-684-8312x3933</td><td>smithcolleen@lester.info</td><td>2024-11-25</td><td>9999-12-31</td></tr><tr><td>1103</td><td>Joshua Lester</td><td>55425 Amber Village\n",
       "West Sarah, AL 67890</td><td>+1-806-294-9071x038</td><td>scottalexander@gmail.com</td><td>2024-02-17</td><td>9999-12-31</td></tr><tr><td>1104</td><td>Ray Garcia</td><td>6459 Michelle Knolls\n",
       "West Tara, NJ 71178</td><td>692.953.0120x606</td><td>yhouse@yahoo.com</td><td>2024-06-30</td><td>9999-12-31</td></tr><tr><td>1105</td><td>Christopher Garrett</td><td>PSC 4301, Box 9100\n",
       "APO AP 99350</td><td>934.794.3923x64446</td><td>floresnicholas@stafford.com</td><td>2024-06-04</td><td>9999-12-31</td></tr><tr><td>1106</td><td>Stephanie Wang</td><td>3123 Crystal Club Apt. 586\n",
       "Rachelside, ID 57822</td><td>244-576-0368x135</td><td>todd34@gmail.com</td><td>2024-07-06</td><td>9999-12-31</td></tr><tr><td>1107</td><td>Eric Fisher</td><td>2786 Judith Gateway Suite 725\n",
       "Jameshaven, WA 74766</td><td>0759950746</td><td>vward@hotmail.com</td><td>2024-03-26</td><td>9999-12-31</td></tr><tr><td>1108</td><td>Earl Walker</td><td>Unit 5236 Box 0869\n",
       "DPO AA 25371</td><td>+1-805-231-9006x44986</td><td>jamiebradley@best-cole.com</td><td>2024-12-01</td><td>9999-12-31</td></tr><tr><td>1110</td><td>Brenda Best</td><td>734 Ronald Flat\n",
       "Port Scott, NV 84093</td><td>+1-598-095-4782x680</td><td>colerogers@hotmail.com</td><td>2024-03-06</td><td>9999-12-31</td></tr><tr><td>1112</td><td>Christina Reed</td><td>7329 Stevenson Dale\n",
       "Cobbfurt, UT 54886</td><td>001-445-858-8528x3065</td><td>juliagray@hotmail.com</td><td>2024-12-02</td><td>9999-12-31</td></tr><tr><td>1113</td><td>Jennifer Thomas</td><td>2433 David Freeway\n",
       "Thomasland, DE 81787</td><td>001-142-629-3880x085</td><td>smithcrystal@molina-graham.com</td><td>2024-11-24</td><td>9999-12-31</td></tr><tr><td>1114</td><td>Russell Cole</td><td>32632 Parker Square Apt. 043\n",
       "New Danielfort, NY 92606</td><td>001-950-823-4506x97590</td><td>sryan@day.com</td><td>2024-04-19</td><td>9999-12-31</td></tr><tr><td>1116</td><td>Riley Knox</td><td>PSC 3733, Box 4565\n",
       "APO AP 45908</td><td>001-877-594-9745x82639</td><td>michelleibarra@gmail.com</td><td>2024-08-05</td><td>9999-12-31</td></tr><tr><td>1117</td><td>Jeremiah Gomez</td><td>89496 Oneill Station\n",
       "Catherinechester, MD 97910</td><td>537-690-3413x568</td><td>curryjames@rosales.com</td><td>2024-02-18</td><td>9999-12-31</td></tr><tr><td>1118</td><td>Mary Morse</td><td>111 Thomas Hill Apt. 374\n",
       "Patriciafort, GA 64630</td><td>+1-087-088-7843</td><td>melaniewillis@hotmail.com</td><td>2024-10-15</td><td>9999-12-31</td></tr><tr><td>1121</td><td>Jacob Davis</td><td>81113 Karen Lakes\n",
       "Chelseaborough, RI 21193</td><td>628.326.0161x5057</td><td>lreyes@brandt.biz</td><td>2024-08-01</td><td>9999-12-31</td></tr><tr><td>1122</td><td>Sharon Fitzgerald</td><td>55564 Thomas Harbors\n",
       "Williamfurt, MN 54496</td><td>915.421.4711</td><td>evanspamela@hall.biz</td><td>2024-02-25</td><td>9999-12-31</td></tr><tr><td>1124</td><td>John Jenkins</td><td>9106 Phillips Pike Suite 489\n",
       "North Jesseberg, ME 35108</td><td>461-290-9254</td><td>ywilliams@reyes.com</td><td>2024-10-01</td><td>9999-12-31</td></tr><tr><td>1125</td><td>Caitlin Walker</td><td>25730 Jordan Glens\n",
       "Natashaburgh, TX 14127</td><td>159-567-2409x914</td><td>marksimpson@yahoo.com</td><td>2024-03-20</td><td>9999-12-31</td></tr><tr><td>1128</td><td>Sheila Smith</td><td>832 Moore Causeway Apt. 295\n",
       "Petersonport, NE 70527</td><td>847.582.6112x46147</td><td>glassgabrielle@shaffer.net</td><td>2024-10-22</td><td>9999-12-31</td></tr><tr><td>1131</td><td>Jonathon Garcia</td><td>852 Cohen Knolls\n",
       "Baileyberg, FL 50623</td><td>694-165-4868x8928</td><td>durannicholas@cruz.com</td><td>2024-02-10</td><td>9999-12-31</td></tr><tr><td>1132</td><td>Jason Johnson</td><td>0822 Hayes Run Apt. 230\n",
       "Johnberg, OK 59668</td><td>(674)707-8307x2244</td><td>wkhan@hotmail.com</td><td>2024-10-16</td><td>9999-12-31</td></tr><tr><td>1133</td><td>Alexis Andersen</td><td>835 Baldwin Hill\n",
       "Williamview, MS 81351</td><td>412-710-7880x06641</td><td>sharismith@potter-martinez.org</td><td>2024-11-15</td><td>9999-12-31</td></tr><tr><td>1135</td><td>Laura Garcia</td><td>Unit 7049 Box 6746\n",
       "DPO AE 57337</td><td>+1-219-330-3482</td><td>heatherjones@fisher-simpson.com</td><td>2024-01-23</td><td>9999-12-31</td></tr><tr><td>1136</td><td>Paula Wallace</td><td>7685 Stephenson Wells\n",
       "Rogersfort, WA 25907</td><td>851.488.7590</td><td>michael51@hotmail.com</td><td>2024-04-01</td><td>9999-12-31</td></tr><tr><td>1137</td><td>Melissa Williams</td><td>092 Michael Camp Apt. 547\n",
       "New Jonathanmouth, OK 25320</td><td>944.753.2471x9620</td><td>umiller@church.com</td><td>2024-11-23</td><td>9999-12-31</td></tr><tr><td>1138</td><td>Mr. Nicholas Rhodes</td><td>8514 Jeremiah Plaza\n",
       "Terrybury, CT 21986</td><td>722.429.8400</td><td>susanbailey@yahoo.com</td><td>2024-03-20</td><td>9999-12-31</td></tr><tr><td>1139</td><td>Monique Jones</td><td>065 Heather Route\n",
       "West Andreafort, CA 50012</td><td>1399509257</td><td>christopherrodriguez@ferguson.com</td><td>2024-10-07</td><td>9999-12-31</td></tr><tr><td>1140</td><td>Bryan Lowe</td><td>8557 Pamela Squares\n",
       "South Michaeltown, MT 09574</td><td>338.246.7463x1880</td><td>jonesrachael@obrien-george.com</td><td>2024-07-19</td><td>9999-12-31</td></tr><tr><td>1141</td><td>Charles Jimenez</td><td>283 Fitzpatrick Shoals\n",
       "South Tina, OH 10782</td><td>(050)207-9153</td><td>rscott@yahoo.com</td><td>2024-07-26</td><td>9999-12-31</td></tr><tr><td>1142</td><td>Jose Thompson</td><td>Unit 7648 Box 9504\n",
       "DPO AP 14164</td><td>0928875051</td><td>aaronbaldwin@hensley-vargas.com</td><td>2024-10-30</td><td>9999-12-31</td></tr><tr><td>1143</td><td>Thomas Trevino</td><td>8984 Jones Well Apt. 442\n",
       "Davisland, CA 21129</td><td>001-533-877-8707x1893</td><td>mistymckenzie@ingram.com</td><td>2024-01-14</td><td>9999-12-31</td></tr><tr><td>1144</td><td>Tamara Mckee</td><td>07920 Robert Road Suite 591\n",
       "East Robynstad, CA 09005</td><td>0306655132</td><td>dgibson@hotmail.com</td><td>2024-05-01</td><td>9999-12-31</td></tr><tr><td>1145</td><td>Phillip Johnson</td><td>7182 William Summit\n",
       "Fordbury, AR 60752</td><td>001-964-581-6969x374</td><td>david13@gmail.com</td><td>2024-06-08</td><td>9999-12-31</td></tr><tr><td>1146</td><td>Austin Miller</td><td>069 Karen Roads Apt. 535\n",
       "South David, MA 33754</td><td>6120286418</td><td>zcarney@yahoo.com</td><td>2024-11-12</td><td>9999-12-31</td></tr><tr><td>1148</td><td>Susan Flores</td><td>11958 Monique Radial\n",
       "Gregoryton, NH 84504</td><td>+1-519-930-7580x41920</td><td>bernardgregory@howell.com</td><td>2024-05-22</td><td>9999-12-31</td></tr><tr><td>1149</td><td>Terri Aguilar</td><td>Unit 6245 Box 6703\n",
       "DPO AA 27816</td><td>001-789-502-2055x8699</td><td>victorroth@richardson-brown.com</td><td>2024-11-12</td><td>9999-12-31</td></tr><tr><td>1001</td><td>Michelle Mcbride</td><td>0613 Sanders Islands Suite 871\n",
       "Catherineport, MN 20654</td><td>(220)633-2698x716</td><td>millergabriella@greene.com</td><td>2024-09-10</td><td>9999-12-31</td></tr><tr><td>1002</td><td>Caleb Carter</td><td>USNS Young\n",
       "FPO AP 70550</td><td>(838)696-0925x780</td><td>wardjennifer@hotmail.com</td><td>2024-03-18</td><td>9999-12-31</td></tr><tr><td>1006</td><td>Jennifer Adams</td><td>27070 Young Views Apt. 973\n",
       "Russellside, TX 46865</td><td>(860)022-1416</td><td>todd23@hotmail.com</td><td>2024-08-21</td><td>9999-12-31</td></tr><tr><td>1008</td><td>Cameron Patrick</td><td>76801 Ruiz Roads\n",
       "Lisaview, ND 46964</td><td>527.433.0454x28798</td><td>kathy09@gmail.com</td><td>2024-07-15</td><td>9999-12-31</td></tr><tr><td>1009</td><td>Brian Klein</td><td>3691 Hall Greens\n",
       "East Jenniferburgh, MA 37230</td><td>089.818.6903x976</td><td>klambert@gmail.com</td><td>2024-08-25</td><td>9999-12-31</td></tr><tr><td>1012</td><td>James Wood</td><td>27108 Valenzuela Track\n",
       "Mclaughlinbury, CA 55514</td><td>(238)466-5589x423</td><td>paguilar@gmail.com</td><td>2024-05-20</td><td>9999-12-31</td></tr><tr><td>1013</td><td>Jeffrey Reid</td><td>45623 Carter Road Apt. 269\n",
       "Port Brooke, ND 58705</td><td>(975)717-8886</td><td>williamwilson@franklin.net</td><td>2024-03-09</td><td>9999-12-31</td></tr><tr><td>1014</td><td>Stephanie Perez</td><td>7888 Lee Station\n",
       "Raymondville, NC 92293</td><td>896-664-7563x040</td><td>curtis83@williams.com</td><td>2024-09-28</td><td>9999-12-31</td></tr><tr><td>1015</td><td>Lisa Strickland</td><td>USNS Mullins\n",
       "FPO AA 32432</td><td>(341)883-0965x098</td><td>kathyharris@booker-garcia.com</td><td>2024-04-01</td><td>9999-12-31</td></tr><tr><td>1017</td><td>Emily Stark</td><td>779 John Union\n",
       "Port Daniel, KY 36281</td><td>(948)584-0349x382</td><td>nicole17@yahoo.com</td><td>2024-05-01</td><td>9999-12-31</td></tr><tr><td>1019</td><td>Zachary Ramos</td><td>99482 Donald Viaduct Suite 025\n",
       "East Michelle, NC 73134</td><td>584.260.9761x6212</td><td>cheyennebrown@nelson-whitehead.com</td><td>2024-07-21</td><td>9999-12-31</td></tr><tr><td>1021</td><td>Christopher Jones</td><td>974 Warren Oval Suite 758\n",
       "East Alexandra, MD 97793</td><td>106.449.4907x68325</td><td>khernandez@little.info</td><td>2024-05-10</td><td>9999-12-31</td></tr><tr><td>1022</td><td>Brenda Simpson</td><td>0274 Simmons Views\n",
       "North Kyle, RI 73851</td><td>404.284.9665</td><td>johnsamy@simpson.com</td><td>2024-12-15</td><td>9999-12-31</td></tr><tr><td>1023</td><td>Krista Wright DDS</td><td>4032 Gabriella Plains Apt. 331\n",
       "Jennifertown, CO 56996</td><td>+1-486-643-0471x5433</td><td>beth04@hart-green.info</td><td>2024-01-27</td><td>9999-12-31</td></tr><tr><td>1007</td><td>Robert Johnson</td><td>574 Patel Drive Apt. 043\n",
       "Jonesville, TX 54199</td><td>001-927-927-7643x34711</td><td>danielbrown@west.com</td><td>2022-09-26</td><td>9999-12-31</td></tr><tr><td>1093</td><td>Eric Glenn</td><td>2560 Christian Junctions\n",
       "North Shane, CA 88681</td><td>001-944-838-5681</td><td>tarabradley@jones.com</td><td>2023-06-21</td><td>9999-12-31</td></tr><tr><td>1049</td><td>Heather Reyes</td><td>6640 Lopez Bridge Suite 704\n",
       "South Craig, DC 35590</td><td>207-774-3705x056</td><td>scottphillips@walker-fowler.info</td><td>2022-12-01</td><td>9999-12-31</td></tr><tr><td>1033</td><td>Jennifer Keith</td><td>8910 Lisa Fields Suite 988\n",
       "South Kevinside, KY 08054</td><td>(601)739-7151</td><td>jasmine96@williams.biz</td><td>2023-03-11</td><td>9999-12-31</td></tr><tr><td>1042</td><td>Donna Miller</td><td>52347 Hunt Path\n",
       "New Dwayne, DE 13255</td><td>+1-060-502-5300x788</td><td>shannonhayden@garcia-wolf.com</td><td>2023-01-22</td><td>9999-12-31</td></tr><tr><td>1078</td><td>Robert Smith</td><td>0842 White Rapid Apt. 888\n",
       "Melodyburgh, WA 23182</td><td>480-845-2524x4108</td><td>gregorysparks@gmail.com</td><td>2022-07-29</td><td>9999-12-31</td></tr><tr><td>1060</td><td>Denise Parker</td><td>26328 Hector Orchard Suite 735\n",
       "New Charlesfurt, ME 57730</td><td>1577292803</td><td>carolgarrison@cobb.org</td><td>2023-07-17</td><td>9999-12-31</td></tr><tr><td>1069</td><td>Andrew Collins</td><td>37675 Spencer Alley\n",
       "Chadmouth, TN 22521</td><td>765.885.9782x98684</td><td>daniel62@fields.info</td><td>2023-05-05</td><td>9999-12-31</td></tr><tr><td>1005</td><td>Lisa Wilson</td><td>324 Smith Springs\n",
       "Lake Kathleen, MI 46779</td><td>001-398-400-0662x13884</td><td>plynn@singh.com</td><td>2022-11-13</td><td>9999-12-31</td></tr><tr><td>1079</td><td>Ruben Parrish</td><td>02681 Jones Harbors\n",
       "South Kristina, LA 87175</td><td>252.977.2962</td><td>cbrowning@english.biz</td><td>2023-02-28</td><td>9999-12-31</td></tr><tr><td>1003</td><td>Marissa Blair</td><td>370 Rodriguez Station Suite 432\n",
       "Jenkinsmouth, NY 12919</td><td>+1-009-154-3329x478</td><td>dschwartz@gmail.com</td><td>2022-11-04</td><td>9999-12-31</td></tr><tr><td>1020</td><td>Madison Burns</td><td>51141 Hart Locks Suite 297\n",
       "Erinmouth, WY 80641</td><td>(076)048-2458</td><td>xdoyle@peck-salas.biz</td><td>2023-07-11</td><td>9999-12-31</td></tr><tr><td>1043</td><td>Jennifer Berry</td><td>049 Ford Radial\n",
       "Port Jimmy, MO 06619</td><td>001-155-136-4225x03698</td><td>amanda86@reese-alvarado.com</td><td>2022-08-20</td><td>9999-12-31</td></tr><tr><td>1059</td><td>Alicia Saunders</td><td>462 Michael Glen\n",
       "Josephberg, DC 93372</td><td>907-146-7133</td><td>jessewatson@hotmail.com</td><td>2022-08-04</td><td>9999-12-31</td></tr><tr><td>1081</td><td>Scott Jones</td><td>591 Richard Lodge Suite 568\n",
       "New John, HI 87997</td><td>239.669.1888x6136</td><td>nicolefisher@miller.com</td><td>2022-10-19</td><td>2024-04-02</td></tr><tr><td>1036</td><td>Kimberly Garza</td><td>USNS Reilly\n",
       "FPO AP 52950</td><td>8095911248</td><td>sdavis@gmail.com</td><td>2022-11-12</td><td>2024-05-25</td></tr><tr><td>1022</td><td>Thomas Mathis</td><td>2386 Parker Mountain\n",
       "East Sharonmouth, IL 15940</td><td>+1-871-965-0054</td><td>jennifer65@gmail.com</td><td>2023-02-04</td><td>2024-12-15</td></tr><tr><td>1062</td><td>Steven Steele</td><td>6203 Smith Forest\n",
       "Lake Crystalchester, CA 67075</td><td>(253)242-6269x1355</td><td>johnsonannette@wallace-griffith.com</td><td>2022-11-12</td><td>2024-08-30</td></tr><tr><td>1021</td><td>Nicholas Anderson</td><td>578 Hill Village Suite 210\n",
       "Evansbury, UT 95568</td><td>008-256-3946</td><td>mavery@baker-ayala.com</td><td>2023-01-09</td><td>2024-05-10</td></tr><tr><td>1037</td><td>Richard Owens</td><td>2941 Nicole Extensions\n",
       "Jeffreyport, OH 42853</td><td>001-874-094-3134x8557</td><td>jfields@stone.com</td><td>2023-02-22</td><td>2024-11-01</td></tr><tr><td>1047</td><td>Nina Weeks</td><td>4250 Burns Forges Suite 922\n",
       "West Christopher, SC 88814</td><td>574-638-3211x5713</td><td>ohowell@berry.com</td><td>2023-03-31</td><td>2024-03-31</td></tr><tr><td>1099</td><td>Steven Mathews</td><td>4536 Michele Village Suite 277\n",
       "North Tracy, NV 18979</td><td>522-742-2881x05998</td><td>thomaserica@yahoo.com</td><td>2022-11-07</td><td>2024-07-28</td></tr><tr><td>1006</td><td>Kathleen Thompson</td><td>8405 Rodriguez Viaduct Apt. 520\n",
       "Carterton, IL 81631</td><td>(102)681-5777x90986</td><td>klevy@williamson.com</td><td>2023-01-11</td><td>2024-08-21</td></tr><tr><td>1057</td><td>Lori Martinez</td><td>67540 Katherine Passage\n",
       "East Patrickhaven, MD 99928</td><td>001-527-829-8855x641</td><td>daniellelin@mills-garcia.com</td><td>2022-11-15</td><td>2024-04-21</td></tr><tr><td>1008</td><td>Jason Gray</td><td>470 Lynch Estates\n",
       "Warrenstad, NV 41388</td><td>001-369-292-9008</td><td>evaughn@hotmail.com</td><td>2022-07-28</td><td>2024-07-15</td></tr><tr><td>1038</td><td>Eric Mathews</td><td>818 David Mountains\n",
       "Wolfton, RI 26711</td><td>223-941-9820x180</td><td>james57@hotmail.com</td><td>2023-03-22</td><td>2024-11-26</td></tr><tr><td>1089</td><td>Donna Morris</td><td>83829 Michele Pike Apt. 088\n",
       "Melissastad, CA 34903</td><td>+1-880-767-9115x68614</td><td>ldouglas@roach-chavez.com</td><td>2023-06-05</td><td>2024-07-06</td></tr><tr><td>1030</td><td>Deborah Mueller</td><td>3311 Roberts Glens\n",
       "Port Daltonmouth, ND 33114</td><td>(894)453-2442</td><td>chelseaellis@luna.org</td><td>2022-08-25</td><td>2024-08-30</td></tr><tr><td>1066</td><td>Vincent Nelson</td><td>USS Henderson\n",
       "FPO AP 87389</td><td>262.176.4956x738</td><td>dustin59@hotmail.com</td><td>2022-10-24</td><td>2024-07-05</td></tr><tr><td>1086</td><td>Anthony Ford</td><td>0148 Lowery Estate Apt. 377\n",
       "Lake Cindy, NC 32001</td><td>879-248-0686x56916</td><td>justinbailey@perez-smith.biz</td><td>2023-07-07</td><td>2024-04-28</td></tr><tr><td>1053</td><td>Nicholas Butler</td><td>96161 Mark Creek Apt. 574\n",
       "New Moniqueshire, OK 35904</td><td>130-645-0302x66302</td><td>hfrank@pope-rose.com</td><td>2022-10-21</td><td>2024-11-06</td></tr><tr><td>1056</td><td>Thomas Fleming</td><td>64049 Megan Mews Suite 377\n",
       "East Dianamouth, CT 09338</td><td>113.716.4320</td><td>watsonstacey@hotmail.com</td><td>2023-03-23</td><td>2024-04-20</td></tr><tr><td>1097</td><td>Gabriel Decker</td><td>Unit 4050 Box 7535\n",
       "DPO AE 13098</td><td>403.820.8864x0672</td><td>nguyenjennifer@peterson-mitchell.net</td><td>2022-09-29</td><td>2024-01-26</td></tr><tr><td>1088</td><td>Cole Rubio</td><td>36623 Ramsey Mountains Apt. 234\n",
       "South Carriemouth, WY 23697</td><td>8188179800</td><td>valenciaandrew@long.net</td><td>2022-09-08</td><td>2024-06-10</td></tr><tr><td>1048</td><td>Harold Vasquez</td><td>6743 Cooper Ports Apt. 432\n",
       "Smithton, WI 94915</td><td>001-258-362-6706x48787</td><td>sarahharris@gmail.com</td><td>2023-02-03</td><td>2024-08-06</td></tr><tr><td>1054</td><td>Jose Abbott</td><td>506 Courtney Canyon Apt. 598\n",
       "Devinmouth, DE 52302</td><td>278.414.2902x1796</td><td>charleshughes@gmail.com</td><td>2023-01-21</td><td>2024-01-29</td></tr><tr><td>1090</td><td>Mark Wong</td><td>3642 Joshua Corner Apt. 327\n",
       "South Chadstad, MO 95945</td><td>776-238-1119x1824</td><td>angela00@yahoo.com</td><td>2022-11-07</td><td>2024-07-01</td></tr><tr><td>1077</td><td>Cheryl Edwards</td><td>95025 Martinez Drives\n",
       "Port Tammyberg, OR 82927</td><td>660.870.4838x29938</td><td>zwallace@gmail.com</td><td>2023-03-20</td><td>2024-08-18</td></tr><tr><td>1026</td><td>Courtney Myers</td><td>92730 Mccoy Ville Apt. 813\n",
       "West Walterburgh, KY 26690</td><td>001-256-984-5119</td><td>qbarrett@yahoo.com</td><td>2023-05-24</td><td>2024-01-30</td></tr><tr><td>1074</td><td>David Bryant</td><td>191 Kelly Terrace Apt. 686\n",
       "Taylorville, NY 06351</td><td>001-430-265-0785x245</td><td>mwilkinson@johnson.net</td><td>2022-08-19</td><td>2024-04-28</td></tr><tr><td>1039</td><td>Michael Todd</td><td>2620 Tyler Mill Suite 442\n",
       "Thompsonhaven, NY 60834</td><td>153.085.8257x513</td><td>heatherreese@diaz-greene.org</td><td>2023-02-01</td><td>2024-04-10</td></tr><tr><td>1015</td><td>John Allison</td><td>165 Jasmine Square\n",
       "Weaverbury, GA 77553</td><td>001-415-337-2883x8689</td><td>johnmoore@hotmail.com</td><td>2023-04-25</td><td>2024-04-01</td></tr><tr><td>1013</td><td>Willie Smith</td><td>16468 Williams Ports\n",
       "Lake Tylerfurt, IA 97660</td><td>(469)888-4572x704</td><td>barrylee@gmail.com</td><td>2023-05-25</td><td>2024-03-09</td></tr><tr><td>1017</td><td>Pamela Perkins</td><td>5651 Pearson Trail Suite 285\n",
       "Lake Tyler, NJ 06477</td><td>001-477-494-9842x168</td><td>vasquezchristina@peters.net</td><td>2023-06-05</td><td>2024-05-01</td></tr><tr><td>1083</td><td>Sean Norman</td><td>843 Martin Shoal\n",
       "Lake Andreaville, TN 85585</td><td>001-470-296-8420x0655</td><td>ksnow@richardson.biz</td><td>2023-06-07</td><td>2024-12-25</td></tr><tr><td>1023</td><td>Natalie Pennington</td><td>4969 Lewis Port\n",
       "Port Catherineview, MN 78390</td><td>(195)327-1676</td><td>ramosnatalie@stout-moses.net</td><td>2023-02-23</td><td>2024-01-27</td></tr><tr><td>1050</td><td>Suzanne Nelson</td><td>58493 Colin Stream Apt. 787\n",
       "Port Laurieburgh, FL 26451</td><td>+1-800-386-9692x065</td><td>jasonthomas@gray.com</td><td>2023-07-07</td><td>2024-01-24</td></tr><tr><td>1035</td><td>Peter Lopez</td><td>202 Macdonald Mountain Suite 452\n",
       "North Ashleyhaven, IN 48938</td><td>(283)270-6720</td><td>carpenterdylan@bates-roberts.org</td><td>2023-06-28</td><td>2024-03-07</td></tr><tr><td>1095</td><td>Melissa Jackson</td><td>00726 Sean Mountain Suite 299\n",
       "East Juan, WV 15026</td><td>(228)445-6060x3013</td><td>jennifergaines@ray.com</td><td>2022-08-15</td><td>2024-07-09</td></tr><tr><td>1098</td><td>Sarah Alexander</td><td>1811 Lisa Lake\n",
       "Christopherstad, NC 00601</td><td>4675134336</td><td>zwest@boyd-torres.com</td><td>2022-07-30</td><td>2024-10-19</td></tr><tr><td>1064</td><td>Brandon Merritt</td><td>2491 Jason Fields\n",
       "West Michaelbury, DC 20290</td><td>854-351-7495x6687</td><td>sean50@yahoo.com</td><td>2022-12-10</td><td>2024-07-14</td></tr><tr><td>1085</td><td>Candace Smith</td><td>327 James Lakes Suite 476\n",
       "West Kyle, IL 49672</td><td>(076)686-6167x055</td><td>cassidymiller@stewart.com</td><td>2022-08-10</td><td>2024-04-13</td></tr><tr><td>1014</td><td>John Peterson</td><td>25762 Jill Key\n",
       "Leslieport, IL 26675</td><td>+1-629-094-4637</td><td>gjoseph@jennings.com</td><td>2023-04-17</td><td>2024-09-28</td></tr><tr><td>1019</td><td>Paul Jones</td><td>7793 White Plains Apt. 667\n",
       "Smithfort, MD 39017</td><td>7012178815</td><td>darren45@morales-roberts.com</td><td>2022-11-09</td><td>2024-07-21</td></tr><tr><td>1002</td><td>Belinda Walsh</td><td>811 Daniel Crescent\n",
       "Vaughnland, DE 12902</td><td>(124)398-7985x7797</td><td>theresa38@murphy.com</td><td>2022-11-22</td><td>2024-03-18</td></tr><tr><td>1096</td><td>Jodi Brown</td><td>86107 Tyler Plains Apt. 190\n",
       "New Benjaminburgh, WI 37527</td><td>001-710-270-0166x23248</td><td>clayton58@morris-estrada.com</td><td>2022-09-20</td><td>2024-07-29</td></tr><tr><td>1012</td><td>Jason Bowman</td><td>07748 Wiggins Park\n",
       "Hallport, MD 39640</td><td>696.318.3009x3705</td><td>tcooke@yahoo.com</td><td>2022-10-04</td><td>2024-05-20</td></tr><tr><td>1067</td><td>Thomas Bautista</td><td>454 Nathan Skyway\n",
       "West Matthew, MN 39102</td><td>(549)528-0623x24086</td><td>vtrujillo@randall.com</td><td>2023-01-09</td><td>2024-07-12</td></tr><tr><td>1001</td><td>Elizabeth Olson</td><td>05736 Trevor Ville Suite 638\n",
       "Robertton, OR 38207</td><td>260.694.4065x215</td><td>tammy97@cobb-clarke.com</td><td>2022-09-22</td><td>2024-09-10</td></tr><tr><td>1087</td><td>Laura Gaines</td><td>PSC 1657, Box 0716\n",
       "APO AA 53357</td><td>220.591.8219</td><td>linda44@gmail.com</td><td>2023-07-08</td><td>2024-08-10</td></tr><tr><td>1009</td><td>Bridget Morris</td><td>2915 Theresa Lakes Suite 127\n",
       "Rachelberg, NY 70405</td><td>(362)855-0710x194</td><td>fharris@gmail.com</td><td>2023-01-30</td><td>2024-08-25</td></tr><tr><td>1070</td><td>Alexander Franklin</td><td>66072 Mosley Rapids Suite 380\n",
       "South Adrienneburgh, UT 96769</td><td>309.907.9642</td><td>pbenson@cruz.net</td><td>2022-08-25</td><td>2024-08-10</td></tr><tr><td>1058</td><td>Rachel Ward</td><td>04357 Joseph Rapids\n",
       "Lake Jamesbury, KY 79474</td><td>+1-252-289-2233x5717</td><td>zlong@hotmail.com</td><td>2023-01-31</td><td>2024-07-30</td></tr><tr><td>1065</td><td>Alyssa Cruz</td><td>797 Rachel Vista\n",
       "Robertborough, NV 89566</td><td>162.434.5015x916</td><td>dnavarro@ford-bell.com</td><td>2023-01-21</td><td>2024-09-28</td></tr></tbody></table></div>"
      ]
     },
     "metadata": {
      "application/vnd.databricks.v1+output": {
       "addedWidgets": {},
       "aggData": [],
       "aggError": "",
       "aggOverflow": false,
       "aggSchema": [],
       "aggSeriesLimitReached": false,
       "aggType": "",
       "arguments": {},
       "columnCustomDisplayInfos": {},
       "data": [
        [
         1026,
         "Lori Odom",
         "66894 Pamela Ridge Apt. 701\nWilsonport, NV 55859",
         null,
         "santanachristopher@wilson-bailey.com",
         "2024-01-30",
         "9999-12-31"
        ],
        [
         1030,
         "David Odonnell",
         "USNV Simmons\nFPO AE 08244",
         "6864684148",
         "kathleen41@hotmail.com",
         "2024-08-30",
         "9999-12-31"
        ],
        [
         1035,
         "Cheryl Weaver",
         "3716 Cunningham Station Apt. 567\nDavidborough, TX 41021",
         "893.223.0773x3326",
         "smithcatherine@yahoo.com",
         "2024-03-07",
         "9999-12-31"
        ],
        [
         1036,
         "Rebecca Johnson",
         "674 Bishop Mission\nSuzannebury, NY 90306",
         "018.713.0054x360",
         "carol33@holt-higgins.info",
         "2024-05-25",
         "9999-12-31"
        ],
        [
         1037,
         "Lisa Hill",
         "6720 Brittany Streets\nLake Sabrinaview, IN 22990",
         "(646)830-3919x64651",
         "cory15@hotmail.com",
         "2024-11-01",
         "9999-12-31"
        ],
        [
         1038,
         "Aaron Cooper",
         "37842 Haynes Isle Suite 421\nSouth Marisa, PA 75690",
         "249-334-3781x7626",
         "crystal91@henderson-lane.net",
         "2024-11-26",
         "9999-12-31"
        ],
        [
         1039,
         "Betty Andrews",
         "Unit 9441 Box 7301\nDPO AA 92892",
         "(055)647-0735",
         "avilacody@yahoo.com",
         "2024-04-10",
         "9999-12-31"
        ],
        [
         1047,
         "Edward Stone",
         "31740 Martinez Trace\nJonesview, NC 49949",
         "884.266.5166x7808",
         "zwhite@hotmail.com",
         "2024-03-31",
         "9999-12-31"
        ],
        [
         1048,
         "James Myers",
         "78527 Kelly Corner\nPowellbury, FL 03544",
         "001-403-398-8094",
         "vyoder@wiley-jones.com",
         "2024-08-06",
         "9999-12-31"
        ],
        [
         1050,
         "Scott Freeman",
         "528 John Hollow\nTheresabury, SC 37328",
         "0970621868",
         "emily78@gmail.com",
         "2024-01-24",
         "9999-12-31"
        ],
        [
         1053,
         "Robert Pratt",
         "9189 Christine Divide\nPort Edward, OH 51538",
         "020.465.4390",
         "anthony28@hotmail.com",
         "2024-11-06",
         "9999-12-31"
        ],
        [
         1054,
         "Ronald Sharp",
         "027 King Forest\nEast Megan, WV 86035",
         "665.459.2000x4188",
         "christophergarcia@yahoo.com",
         "2024-01-29",
         "9999-12-31"
        ],
        [
         1056,
         "Courtney Gomez",
         "3891 Mcdonald Grove Apt. 869\nLake Latoyabury, NJ 14390",
         "4457130347",
         "markgreen@mitchell.com",
         "2024-04-20",
         "9999-12-31"
        ],
        [
         1057,
         "Scott Mason",
         "108 Angela Via Suite 828\nNorth Thomas, AZ 36777",
         "598.565.6459x188",
         "debra31@carter.com",
         "2024-04-21",
         "9999-12-31"
        ],
        [
         1058,
         "Jorge Ortega",
         "USCGC Burns\nFPO AA 09606",
         "(680)662-4877x04969",
         "michelleglass@gmail.com",
         "2024-07-30",
         "9999-12-31"
        ],
        [
         1062,
         "Jack Wood",
         "PSC 4226, Box 5476\nAPO AA 60249",
         "(439)936-5825",
         "daniel35@griffin-adams.info",
         "2024-08-30",
         "9999-12-31"
        ],
        [
         1064,
         "Chelsea Clark",
         "671 Frazier Stravenue\nJamesborough, MA 35967",
         "455.151.6928",
         "marshallstephanie@gmail.com",
         "2024-07-14",
         "9999-12-31"
        ],
        [
         1065,
         "Anthony Moore",
         "58492 Moore Circles\nNorth Oscarland, AK 48584",
         "(232)517-2974x49987",
         "vhart@gmail.com",
         "2024-09-28",
         "9999-12-31"
        ],
        [
         1066,
         "Adam Adams",
         "USS Hall\nFPO AE 84729",
         "001-478-168-9105",
         "hdaniel@yahoo.com",
         "2024-07-05",
         "9999-12-31"
        ],
        [
         1067,
         "Tony Vincent",
         "30698 Carol Square Apt. 356\nBaileyberg, WI 85207",
         "(817)155-1702",
         "scooley@white.org",
         "2024-07-12",
         "9999-12-31"
        ],
        [
         1070,
         "Jacob Harris",
         "156 Barbara Isle\nPort Sergio, OK 76030",
         "+1-942-233-6560x0367",
         "danielleweber@gmail.com",
         "2024-08-10",
         "9999-12-31"
        ],
        [
         1074,
         "Steven Williams",
         "USCGC Barton\nFPO AP 04123",
         "+1-712-164-2330x8887",
         "michaelmiles@joseph.info",
         "2024-04-28",
         "9999-12-31"
        ],
        [
         1077,
         "Dr. Amanda Cochran",
         "USNS Cunningham\nFPO AE 51113",
         "+1-964-993-3920x3202",
         "williamskathleen@ramirez-alexander.com",
         "2024-08-18",
         "9999-12-31"
        ],
        [
         1081,
         "Lindsay Wilson",
         "797 Lisa River Suite 866\nWest Carolbury, KS 44892",
         "(207)272-3996x79818",
         "christine79@taylor.net",
         "2024-04-02",
         "9999-12-31"
        ],
        [
         1083,
         "Jocelyn Montgomery",
         "140 Taylor Way\nJeremybury, CO 91712",
         "695-126-5223",
         "stephaniewelch@haas.biz",
         "2024-12-25",
         "9999-12-31"
        ],
        [
         1085,
         "Alvin Walsh",
         "4112 Spears Centers\nRobertton, AL 68222",
         "(267)390-6828x89534",
         "wcampbell@gmail.com",
         "2024-04-13",
         "9999-12-31"
        ],
        [
         1086,
         "Aaron Mcdowell",
         "46192 Patrick Well Suite 484\nNicholasberg, MD 44026",
         "+1-500-357-4351",
         "stephen36@brown.com",
         "2024-04-28",
         "9999-12-31"
        ],
        [
         1087,
         "Justin Rowe",
         "5753 Brian Way\nPattystad, OK 45929",
         "001-549-169-1682x19781",
         "robert67@yahoo.com",
         "2024-08-10",
         "9999-12-31"
        ],
        [
         1088,
         "Cynthia Williams",
         "870 Keith Plaza Apt. 880\nPort Dianaland, AK 54229",
         "+1-330-472-1846x00448",
         "elizabethlynch@brown.info",
         "2024-06-10",
         "9999-12-31"
        ],
        [
         1089,
         "Brandon Macias",
         "602 Jennifer Village Apt. 297\nBassberg, OH 66020",
         "(701)194-6449x59349",
         "xmartinez@yahoo.com",
         "2024-07-06",
         "9999-12-31"
        ],
        [
         1090,
         "Johnathan Meyer",
         "006 Sarah Village\nNorrisside, ID 58412",
         "328.284.4441x211",
         "ihowe@frederick.info",
         "2024-07-01",
         "9999-12-31"
        ],
        [
         1095,
         "Jeffrey Becker",
         "Unit 7106 Box 4307\nDPO AP 54542",
         "001-636-040-1136x95849",
         "samanthaandersen@reynolds-nichols.info",
         "2024-07-09",
         "9999-12-31"
        ],
        [
         1096,
         "Holly Medina",
         "2648 Jackson Lakes Suite 767\nAliciahaven, VA 52977",
         "(875)340-1444",
         "alanmolina@doyle.com",
         "2024-07-29",
         "9999-12-31"
        ],
        [
         1097,
         "Carrie Levy",
         "53894 Lauren Vista\nNatalieside, TN 57176",
         "+1-426-321-0954",
         "michaelcollier@odonnell.org",
         "2024-01-26",
         "9999-12-31"
        ],
        [
         1098,
         "Matthew Murphy",
         "PSC 5614, Box 1870\nAPO AP 94866",
         "2438925942",
         "greermichael@yahoo.com",
         "2024-10-19",
         "9999-12-31"
        ],
        [
         1099,
         "James Welch",
         "USNS Rhodes\nFPO AE 19915",
         "918.910.1041x1076",
         "amanda62@yahoo.com",
         "2024-07-28",
         "9999-12-31"
        ],
        [
         1101,
         "Daniel Nichols",
         "5543 Green Via Apt. 254\nWest Arthur, NV 37882",
         "0285724877",
         "martinkatherine@yahoo.com",
         "2024-03-14",
         "9999-12-31"
        ],
        [
         1102,
         "Brandon Cunningham",
         "76645 Pittman Village\nJonesland, IL 18027",
         "+1-611-684-8312x3933",
         "smithcolleen@lester.info",
         "2024-11-25",
         "9999-12-31"
        ],
        [
         1103,
         "Joshua Lester",
         "55425 Amber Village\nWest Sarah, AL 67890",
         "+1-806-294-9071x038",
         "scottalexander@gmail.com",
         "2024-02-17",
         "9999-12-31"
        ],
        [
         1104,
         "Ray Garcia",
         "6459 Michelle Knolls\nWest Tara, NJ 71178",
         "692.953.0120x606",
         "yhouse@yahoo.com",
         "2024-06-30",
         "9999-12-31"
        ],
        [
         1105,
         "Christopher Garrett",
         "PSC 4301, Box 9100\nAPO AP 99350",
         "934.794.3923x64446",
         "floresnicholas@stafford.com",
         "2024-06-04",
         "9999-12-31"
        ],
        [
         1106,
         "Stephanie Wang",
         "3123 Crystal Club Apt. 586\nRachelside, ID 57822",
         "244-576-0368x135",
         "todd34@gmail.com",
         "2024-07-06",
         "9999-12-31"
        ],
        [
         1107,
         "Eric Fisher",
         "2786 Judith Gateway Suite 725\nJameshaven, WA 74766",
         "0759950746",
         "vward@hotmail.com",
         "2024-03-26",
         "9999-12-31"
        ],
        [
         1108,
         "Earl Walker",
         "Unit 5236 Box 0869\nDPO AA 25371",
         "+1-805-231-9006x44986",
         "jamiebradley@best-cole.com",
         "2024-12-01",
         "9999-12-31"
        ],
        [
         1110,
         "Brenda Best",
         "734 Ronald Flat\nPort Scott, NV 84093",
         "+1-598-095-4782x680",
         "colerogers@hotmail.com",
         "2024-03-06",
         "9999-12-31"
        ],
        [
         1112,
         "Christina Reed",
         "7329 Stevenson Dale\nCobbfurt, UT 54886",
         "001-445-858-8528x3065",
         "juliagray@hotmail.com",
         "2024-12-02",
         "9999-12-31"
        ],
        [
         1113,
         "Jennifer Thomas",
         "2433 David Freeway\nThomasland, DE 81787",
         "001-142-629-3880x085",
         "smithcrystal@molina-graham.com",
         "2024-11-24",
         "9999-12-31"
        ],
        [
         1114,
         "Russell Cole",
         "32632 Parker Square Apt. 043\nNew Danielfort, NY 92606",
         "001-950-823-4506x97590",
         "sryan@day.com",
         "2024-04-19",
         "9999-12-31"
        ],
        [
         1116,
         "Riley Knox",
         "PSC 3733, Box 4565\nAPO AP 45908",
         "001-877-594-9745x82639",
         "michelleibarra@gmail.com",
         "2024-08-05",
         "9999-12-31"
        ],
        [
         1117,
         "Jeremiah Gomez",
         "89496 Oneill Station\nCatherinechester, MD 97910",
         "537-690-3413x568",
         "curryjames@rosales.com",
         "2024-02-18",
         "9999-12-31"
        ],
        [
         1118,
         "Mary Morse",
         "111 Thomas Hill Apt. 374\nPatriciafort, GA 64630",
         "+1-087-088-7843",
         "melaniewillis@hotmail.com",
         "2024-10-15",
         "9999-12-31"
        ],
        [
         1121,
         "Jacob Davis",
         "81113 Karen Lakes\nChelseaborough, RI 21193",
         "628.326.0161x5057",
         "lreyes@brandt.biz",
         "2024-08-01",
         "9999-12-31"
        ],
        [
         1122,
         "Sharon Fitzgerald",
         "55564 Thomas Harbors\nWilliamfurt, MN 54496",
         "915.421.4711",
         "evanspamela@hall.biz",
         "2024-02-25",
         "9999-12-31"
        ],
        [
         1124,
         "John Jenkins",
         "9106 Phillips Pike Suite 489\nNorth Jesseberg, ME 35108",
         "461-290-9254",
         "ywilliams@reyes.com",
         "2024-10-01",
         "9999-12-31"
        ],
        [
         1125,
         "Caitlin Walker",
         "25730 Jordan Glens\nNatashaburgh, TX 14127",
         "159-567-2409x914",
         "marksimpson@yahoo.com",
         "2024-03-20",
         "9999-12-31"
        ],
        [
         1128,
         "Sheila Smith",
         "832 Moore Causeway Apt. 295\nPetersonport, NE 70527",
         "847.582.6112x46147",
         "glassgabrielle@shaffer.net",
         "2024-10-22",
         "9999-12-31"
        ],
        [
         1131,
         "Jonathon Garcia",
         "852 Cohen Knolls\nBaileyberg, FL 50623",
         "694-165-4868x8928",
         "durannicholas@cruz.com",
         "2024-02-10",
         "9999-12-31"
        ],
        [
         1132,
         "Jason Johnson",
         "0822 Hayes Run Apt. 230\nJohnberg, OK 59668",
         "(674)707-8307x2244",
         "wkhan@hotmail.com",
         "2024-10-16",
         "9999-12-31"
        ],
        [
         1133,
         "Alexis Andersen",
         "835 Baldwin Hill\nWilliamview, MS 81351",
         "412-710-7880x06641",
         "sharismith@potter-martinez.org",
         "2024-11-15",
         "9999-12-31"
        ],
        [
         1135,
         "Laura Garcia",
         "Unit 7049 Box 6746\nDPO AE 57337",
         "+1-219-330-3482",
         "heatherjones@fisher-simpson.com",
         "2024-01-23",
         "9999-12-31"
        ],
        [
         1136,
         "Paula Wallace",
         "7685 Stephenson Wells\nRogersfort, WA 25907",
         "851.488.7590",
         "michael51@hotmail.com",
         "2024-04-01",
         "9999-12-31"
        ],
        [
         1137,
         "Melissa Williams",
         "092 Michael Camp Apt. 547\nNew Jonathanmouth, OK 25320",
         "944.753.2471x9620",
         "umiller@church.com",
         "2024-11-23",
         "9999-12-31"
        ],
        [
         1138,
         "Mr. Nicholas Rhodes",
         "8514 Jeremiah Plaza\nTerrybury, CT 21986",
         "722.429.8400",
         "susanbailey@yahoo.com",
         "2024-03-20",
         "9999-12-31"
        ],
        [
         1139,
         "Monique Jones",
         "065 Heather Route\nWest Andreafort, CA 50012",
         "1399509257",
         "christopherrodriguez@ferguson.com",
         "2024-10-07",
         "9999-12-31"
        ],
        [
         1140,
         "Bryan Lowe",
         "8557 Pamela Squares\nSouth Michaeltown, MT 09574",
         "338.246.7463x1880",
         "jonesrachael@obrien-george.com",
         "2024-07-19",
         "9999-12-31"
        ],
        [
         1141,
         "Charles Jimenez",
         "283 Fitzpatrick Shoals\nSouth Tina, OH 10782",
         "(050)207-9153",
         "rscott@yahoo.com",
         "2024-07-26",
         "9999-12-31"
        ],
        [
         1142,
         "Jose Thompson",
         "Unit 7648 Box 9504\nDPO AP 14164",
         "0928875051",
         "aaronbaldwin@hensley-vargas.com",
         "2024-10-30",
         "9999-12-31"
        ],
        [
         1143,
         "Thomas Trevino",
         "8984 Jones Well Apt. 442\nDavisland, CA 21129",
         "001-533-877-8707x1893",
         "mistymckenzie@ingram.com",
         "2024-01-14",
         "9999-12-31"
        ],
        [
         1144,
         "Tamara Mckee",
         "07920 Robert Road Suite 591\nEast Robynstad, CA 09005",
         "0306655132",
         "dgibson@hotmail.com",
         "2024-05-01",
         "9999-12-31"
        ],
        [
         1145,
         "Phillip Johnson",
         "7182 William Summit\nFordbury, AR 60752",
         "001-964-581-6969x374",
         "david13@gmail.com",
         "2024-06-08",
         "9999-12-31"
        ],
        [
         1146,
         "Austin Miller",
         "069 Karen Roads Apt. 535\nSouth David, MA 33754",
         "6120286418",
         "zcarney@yahoo.com",
         "2024-11-12",
         "9999-12-31"
        ],
        [
         1148,
         "Susan Flores",
         "11958 Monique Radial\nGregoryton, NH 84504",
         "+1-519-930-7580x41920",
         "bernardgregory@howell.com",
         "2024-05-22",
         "9999-12-31"
        ],
        [
         1149,
         "Terri Aguilar",
         "Unit 6245 Box 6703\nDPO AA 27816",
         "001-789-502-2055x8699",
         "victorroth@richardson-brown.com",
         "2024-11-12",
         "9999-12-31"
        ],
        [
         1001,
         "Michelle Mcbride",
         "0613 Sanders Islands Suite 871\nCatherineport, MN 20654",
         "(220)633-2698x716",
         "millergabriella@greene.com",
         "2024-09-10",
         "9999-12-31"
        ],
        [
         1002,
         "Caleb Carter",
         "USNS Young\nFPO AP 70550",
         "(838)696-0925x780",
         "wardjennifer@hotmail.com",
         "2024-03-18",
         "9999-12-31"
        ],
        [
         1006,
         "Jennifer Adams",
         "27070 Young Views Apt. 973\nRussellside, TX 46865",
         "(860)022-1416",
         "todd23@hotmail.com",
         "2024-08-21",
         "9999-12-31"
        ],
        [
         1008,
         "Cameron Patrick",
         "76801 Ruiz Roads\nLisaview, ND 46964",
         "527.433.0454x28798",
         "kathy09@gmail.com",
         "2024-07-15",
         "9999-12-31"
        ],
        [
         1009,
         "Brian Klein",
         "3691 Hall Greens\nEast Jenniferburgh, MA 37230",
         "089.818.6903x976",
         "klambert@gmail.com",
         "2024-08-25",
         "9999-12-31"
        ],
        [
         1012,
         "James Wood",
         "27108 Valenzuela Track\nMclaughlinbury, CA 55514",
         "(238)466-5589x423",
         "paguilar@gmail.com",
         "2024-05-20",
         "9999-12-31"
        ],
        [
         1013,
         "Jeffrey Reid",
         "45623 Carter Road Apt. 269\nPort Brooke, ND 58705",
         "(975)717-8886",
         "williamwilson@franklin.net",
         "2024-03-09",
         "9999-12-31"
        ],
        [
         1014,
         "Stephanie Perez",
         "7888 Lee Station\nRaymondville, NC 92293",
         "896-664-7563x040",
         "curtis83@williams.com",
         "2024-09-28",
         "9999-12-31"
        ],
        [
         1015,
         "Lisa Strickland",
         "USNS Mullins\nFPO AA 32432",
         "(341)883-0965x098",
         "kathyharris@booker-garcia.com",
         "2024-04-01",
         "9999-12-31"
        ],
        [
         1017,
         "Emily Stark",
         "779 John Union\nPort Daniel, KY 36281",
         "(948)584-0349x382",
         "nicole17@yahoo.com",
         "2024-05-01",
         "9999-12-31"
        ],
        [
         1019,
         "Zachary Ramos",
         "99482 Donald Viaduct Suite 025\nEast Michelle, NC 73134",
         "584.260.9761x6212",
         "cheyennebrown@nelson-whitehead.com",
         "2024-07-21",
         "9999-12-31"
        ],
        [
         1021,
         "Christopher Jones",
         "974 Warren Oval Suite 758\nEast Alexandra, MD 97793",
         "106.449.4907x68325",
         "khernandez@little.info",
         "2024-05-10",
         "9999-12-31"
        ],
        [
         1022,
         "Brenda Simpson",
         "0274 Simmons Views\nNorth Kyle, RI 73851",
         "404.284.9665",
         "johnsamy@simpson.com",
         "2024-12-15",
         "9999-12-31"
        ],
        [
         1023,
         "Krista Wright DDS",
         "4032 Gabriella Plains Apt. 331\nJennifertown, CO 56996",
         "+1-486-643-0471x5433",
         "beth04@hart-green.info",
         "2024-01-27",
         "9999-12-31"
        ],
        [
         1007,
         "Robert Johnson",
         "574 Patel Drive Apt. 043\nJonesville, TX 54199",
         "001-927-927-7643x34711",
         "danielbrown@west.com",
         "2022-09-26",
         "9999-12-31"
        ],
        [
         1093,
         "Eric Glenn",
         "2560 Christian Junctions\nNorth Shane, CA 88681",
         "001-944-838-5681",
         "tarabradley@jones.com",
         "2023-06-21",
         "9999-12-31"
        ],
        [
         1049,
         "Heather Reyes",
         "6640 Lopez Bridge Suite 704\nSouth Craig, DC 35590",
         "207-774-3705x056",
         "scottphillips@walker-fowler.info",
         "2022-12-01",
         "9999-12-31"
        ],
        [
         1033,
         "Jennifer Keith",
         "8910 Lisa Fields Suite 988\nSouth Kevinside, KY 08054",
         "(601)739-7151",
         "jasmine96@williams.biz",
         "2023-03-11",
         "9999-12-31"
        ],
        [
         1042,
         "Donna Miller",
         "52347 Hunt Path\nNew Dwayne, DE 13255",
         "+1-060-502-5300x788",
         "shannonhayden@garcia-wolf.com",
         "2023-01-22",
         "9999-12-31"
        ],
        [
         1078,
         "Robert Smith",
         "0842 White Rapid Apt. 888\nMelodyburgh, WA 23182",
         "480-845-2524x4108",
         "gregorysparks@gmail.com",
         "2022-07-29",
         "9999-12-31"
        ],
        [
         1060,
         "Denise Parker",
         "26328 Hector Orchard Suite 735\nNew Charlesfurt, ME 57730",
         "1577292803",
         "carolgarrison@cobb.org",
         "2023-07-17",
         "9999-12-31"
        ],
        [
         1069,
         "Andrew Collins",
         "37675 Spencer Alley\nChadmouth, TN 22521",
         "765.885.9782x98684",
         "daniel62@fields.info",
         "2023-05-05",
         "9999-12-31"
        ],
        [
         1005,
         "Lisa Wilson",
         "324 Smith Springs\nLake Kathleen, MI 46779",
         "001-398-400-0662x13884",
         "plynn@singh.com",
         "2022-11-13",
         "9999-12-31"
        ],
        [
         1079,
         "Ruben Parrish",
         "02681 Jones Harbors\nSouth Kristina, LA 87175",
         "252.977.2962",
         "cbrowning@english.biz",
         "2023-02-28",
         "9999-12-31"
        ],
        [
         1003,
         "Marissa Blair",
         "370 Rodriguez Station Suite 432\nJenkinsmouth, NY 12919",
         "+1-009-154-3329x478",
         "dschwartz@gmail.com",
         "2022-11-04",
         "9999-12-31"
        ],
        [
         1020,
         "Madison Burns",
         "51141 Hart Locks Suite 297\nErinmouth, WY 80641",
         "(076)048-2458",
         "xdoyle@peck-salas.biz",
         "2023-07-11",
         "9999-12-31"
        ],
        [
         1043,
         "Jennifer Berry",
         "049 Ford Radial\nPort Jimmy, MO 06619",
         "001-155-136-4225x03698",
         "amanda86@reese-alvarado.com",
         "2022-08-20",
         "9999-12-31"
        ],
        [
         1059,
         "Alicia Saunders",
         "462 Michael Glen\nJosephberg, DC 93372",
         "907-146-7133",
         "jessewatson@hotmail.com",
         "2022-08-04",
         "9999-12-31"
        ],
        [
         1081,
         "Scott Jones",
         "591 Richard Lodge Suite 568\nNew John, HI 87997",
         "239.669.1888x6136",
         "nicolefisher@miller.com",
         "2022-10-19",
         "2024-04-02"
        ],
        [
         1036,
         "Kimberly Garza",
         "USNS Reilly\nFPO AP 52950",
         "8095911248",
         "sdavis@gmail.com",
         "2022-11-12",
         "2024-05-25"
        ],
        [
         1022,
         "Thomas Mathis",
         "2386 Parker Mountain\nEast Sharonmouth, IL 15940",
         "+1-871-965-0054",
         "jennifer65@gmail.com",
         "2023-02-04",
         "2024-12-15"
        ],
        [
         1062,
         "Steven Steele",
         "6203 Smith Forest\nLake Crystalchester, CA 67075",
         "(253)242-6269x1355",
         "johnsonannette@wallace-griffith.com",
         "2022-11-12",
         "2024-08-30"
        ],
        [
         1021,
         "Nicholas Anderson",
         "578 Hill Village Suite 210\nEvansbury, UT 95568",
         "008-256-3946",
         "mavery@baker-ayala.com",
         "2023-01-09",
         "2024-05-10"
        ],
        [
         1037,
         "Richard Owens",
         "2941 Nicole Extensions\nJeffreyport, OH 42853",
         "001-874-094-3134x8557",
         "jfields@stone.com",
         "2023-02-22",
         "2024-11-01"
        ],
        [
         1047,
         "Nina Weeks",
         "4250 Burns Forges Suite 922\nWest Christopher, SC 88814",
         "574-638-3211x5713",
         "ohowell@berry.com",
         "2023-03-31",
         "2024-03-31"
        ],
        [
         1099,
         "Steven Mathews",
         "4536 Michele Village Suite 277\nNorth Tracy, NV 18979",
         "522-742-2881x05998",
         "thomaserica@yahoo.com",
         "2022-11-07",
         "2024-07-28"
        ],
        [
         1006,
         "Kathleen Thompson",
         "8405 Rodriguez Viaduct Apt. 520\nCarterton, IL 81631",
         "(102)681-5777x90986",
         "klevy@williamson.com",
         "2023-01-11",
         "2024-08-21"
        ],
        [
         1057,
         "Lori Martinez",
         "67540 Katherine Passage\nEast Patrickhaven, MD 99928",
         "001-527-829-8855x641",
         "daniellelin@mills-garcia.com",
         "2022-11-15",
         "2024-04-21"
        ],
        [
         1008,
         "Jason Gray",
         "470 Lynch Estates\nWarrenstad, NV 41388",
         "001-369-292-9008",
         "evaughn@hotmail.com",
         "2022-07-28",
         "2024-07-15"
        ],
        [
         1038,
         "Eric Mathews",
         "818 David Mountains\nWolfton, RI 26711",
         "223-941-9820x180",
         "james57@hotmail.com",
         "2023-03-22",
         "2024-11-26"
        ],
        [
         1089,
         "Donna Morris",
         "83829 Michele Pike Apt. 088\nMelissastad, CA 34903",
         "+1-880-767-9115x68614",
         "ldouglas@roach-chavez.com",
         "2023-06-05",
         "2024-07-06"
        ],
        [
         1030,
         "Deborah Mueller",
         "3311 Roberts Glens\nPort Daltonmouth, ND 33114",
         "(894)453-2442",
         "chelseaellis@luna.org",
         "2022-08-25",
         "2024-08-30"
        ],
        [
         1066,
         "Vincent Nelson",
         "USS Henderson\nFPO AP 87389",
         "262.176.4956x738",
         "dustin59@hotmail.com",
         "2022-10-24",
         "2024-07-05"
        ],
        [
         1086,
         "Anthony Ford",
         "0148 Lowery Estate Apt. 377\nLake Cindy, NC 32001",
         "879-248-0686x56916",
         "justinbailey@perez-smith.biz",
         "2023-07-07",
         "2024-04-28"
        ],
        [
         1053,
         "Nicholas Butler",
         "96161 Mark Creek Apt. 574\nNew Moniqueshire, OK 35904",
         "130-645-0302x66302",
         "hfrank@pope-rose.com",
         "2022-10-21",
         "2024-11-06"
        ],
        [
         1056,
         "Thomas Fleming",
         "64049 Megan Mews Suite 377\nEast Dianamouth, CT 09338",
         "113.716.4320",
         "watsonstacey@hotmail.com",
         "2023-03-23",
         "2024-04-20"
        ],
        [
         1097,
         "Gabriel Decker",
         "Unit 4050 Box 7535\nDPO AE 13098",
         "403.820.8864x0672",
         "nguyenjennifer@peterson-mitchell.net",
         "2022-09-29",
         "2024-01-26"
        ],
        [
         1088,
         "Cole Rubio",
         "36623 Ramsey Mountains Apt. 234\nSouth Carriemouth, WY 23697",
         "8188179800",
         "valenciaandrew@long.net",
         "2022-09-08",
         "2024-06-10"
        ],
        [
         1048,
         "Harold Vasquez",
         "6743 Cooper Ports Apt. 432\nSmithton, WI 94915",
         "001-258-362-6706x48787",
         "sarahharris@gmail.com",
         "2023-02-03",
         "2024-08-06"
        ],
        [
         1054,
         "Jose Abbott",
         "506 Courtney Canyon Apt. 598\nDevinmouth, DE 52302",
         "278.414.2902x1796",
         "charleshughes@gmail.com",
         "2023-01-21",
         "2024-01-29"
        ],
        [
         1090,
         "Mark Wong",
         "3642 Joshua Corner Apt. 327\nSouth Chadstad, MO 95945",
         "776-238-1119x1824",
         "angela00@yahoo.com",
         "2022-11-07",
         "2024-07-01"
        ],
        [
         1077,
         "Cheryl Edwards",
         "95025 Martinez Drives\nPort Tammyberg, OR 82927",
         "660.870.4838x29938",
         "zwallace@gmail.com",
         "2023-03-20",
         "2024-08-18"
        ],
        [
         1026,
         "Courtney Myers",
         "92730 Mccoy Ville Apt. 813\nWest Walterburgh, KY 26690",
         "001-256-984-5119",
         "qbarrett@yahoo.com",
         "2023-05-24",
         "2024-01-30"
        ],
        [
         1074,
         "David Bryant",
         "191 Kelly Terrace Apt. 686\nTaylorville, NY 06351",
         "001-430-265-0785x245",
         "mwilkinson@johnson.net",
         "2022-08-19",
         "2024-04-28"
        ],
        [
         1039,
         "Michael Todd",
         "2620 Tyler Mill Suite 442\nThompsonhaven, NY 60834",
         "153.085.8257x513",
         "heatherreese@diaz-greene.org",
         "2023-02-01",
         "2024-04-10"
        ],
        [
         1015,
         "John Allison",
         "165 Jasmine Square\nWeaverbury, GA 77553",
         "001-415-337-2883x8689",
         "johnmoore@hotmail.com",
         "2023-04-25",
         "2024-04-01"
        ],
        [
         1013,
         "Willie Smith",
         "16468 Williams Ports\nLake Tylerfurt, IA 97660",
         "(469)888-4572x704",
         "barrylee@gmail.com",
         "2023-05-25",
         "2024-03-09"
        ],
        [
         1017,
         "Pamela Perkins",
         "5651 Pearson Trail Suite 285\nLake Tyler, NJ 06477",
         "001-477-494-9842x168",
         "vasquezchristina@peters.net",
         "2023-06-05",
         "2024-05-01"
        ],
        [
         1083,
         "Sean Norman",
         "843 Martin Shoal\nLake Andreaville, TN 85585",
         "001-470-296-8420x0655",
         "ksnow@richardson.biz",
         "2023-06-07",
         "2024-12-25"
        ],
        [
         1023,
         "Natalie Pennington",
         "4969 Lewis Port\nPort Catherineview, MN 78390",
         "(195)327-1676",
         "ramosnatalie@stout-moses.net",
         "2023-02-23",
         "2024-01-27"
        ],
        [
         1050,
         "Suzanne Nelson",
         "58493 Colin Stream Apt. 787\nPort Laurieburgh, FL 26451",
         "+1-800-386-9692x065",
         "jasonthomas@gray.com",
         "2023-07-07",
         "2024-01-24"
        ],
        [
         1035,
         "Peter Lopez",
         "202 Macdonald Mountain Suite 452\nNorth Ashleyhaven, IN 48938",
         "(283)270-6720",
         "carpenterdylan@bates-roberts.org",
         "2023-06-28",
         "2024-03-07"
        ],
        [
         1095,
         "Melissa Jackson",
         "00726 Sean Mountain Suite 299\nEast Juan, WV 15026",
         "(228)445-6060x3013",
         "jennifergaines@ray.com",
         "2022-08-15",
         "2024-07-09"
        ],
        [
         1098,
         "Sarah Alexander",
         "1811 Lisa Lake\nChristopherstad, NC 00601",
         "4675134336",
         "zwest@boyd-torres.com",
         "2022-07-30",
         "2024-10-19"
        ],
        [
         1064,
         "Brandon Merritt",
         "2491 Jason Fields\nWest Michaelbury, DC 20290",
         "854-351-7495x6687",
         "sean50@yahoo.com",
         "2022-12-10",
         "2024-07-14"
        ],
        [
         1085,
         "Candace Smith",
         "327 James Lakes Suite 476\nWest Kyle, IL 49672",
         "(076)686-6167x055",
         "cassidymiller@stewart.com",
         "2022-08-10",
         "2024-04-13"
        ],
        [
         1014,
         "John Peterson",
         "25762 Jill Key\nLeslieport, IL 26675",
         "+1-629-094-4637",
         "gjoseph@jennings.com",
         "2023-04-17",
         "2024-09-28"
        ],
        [
         1019,
         "Paul Jones",
         "7793 White Plains Apt. 667\nSmithfort, MD 39017",
         "7012178815",
         "darren45@morales-roberts.com",
         "2022-11-09",
         "2024-07-21"
        ],
        [
         1002,
         "Belinda Walsh",
         "811 Daniel Crescent\nVaughnland, DE 12902",
         "(124)398-7985x7797",
         "theresa38@murphy.com",
         "2022-11-22",
         "2024-03-18"
        ],
        [
         1096,
         "Jodi Brown",
         "86107 Tyler Plains Apt. 190\nNew Benjaminburgh, WI 37527",
         "001-710-270-0166x23248",
         "clayton58@morris-estrada.com",
         "2022-09-20",
         "2024-07-29"
        ],
        [
         1012,
         "Jason Bowman",
         "07748 Wiggins Park\nHallport, MD 39640",
         "696.318.3009x3705",
         "tcooke@yahoo.com",
         "2022-10-04",
         "2024-05-20"
        ],
        [
         1067,
         "Thomas Bautista",
         "454 Nathan Skyway\nWest Matthew, MN 39102",
         "(549)528-0623x24086",
         "vtrujillo@randall.com",
         "2023-01-09",
         "2024-07-12"
        ],
        [
         1001,
         "Elizabeth Olson",
         "05736 Trevor Ville Suite 638\nRobertton, OR 38207",
         "260.694.4065x215",
         "tammy97@cobb-clarke.com",
         "2022-09-22",
         "2024-09-10"
        ],
        [
         1087,
         "Laura Gaines",
         "PSC 1657, Box 0716\nAPO AA 53357",
         "220.591.8219",
         "linda44@gmail.com",
         "2023-07-08",
         "2024-08-10"
        ],
        [
         1009,
         "Bridget Morris",
         "2915 Theresa Lakes Suite 127\nRachelberg, NY 70405",
         "(362)855-0710x194",
         "fharris@gmail.com",
         "2023-01-30",
         "2024-08-25"
        ],
        [
         1070,
         "Alexander Franklin",
         "66072 Mosley Rapids Suite 380\nSouth Adrienneburgh, UT 96769",
         "309.907.9642",
         "pbenson@cruz.net",
         "2022-08-25",
         "2024-08-10"
        ],
        [
         1058,
         "Rachel Ward",
         "04357 Joseph Rapids\nLake Jamesbury, KY 79474",
         "+1-252-289-2233x5717",
         "zlong@hotmail.com",
         "2023-01-31",
         "2024-07-30"
        ],
        [
         1065,
         "Alyssa Cruz",
         "797 Rachel Vista\nRobertborough, NV 89566",
         "162.434.5015x916",
         "dnavarro@ford-bell.com",
         "2023-01-21",
         "2024-09-28"
        ]
       ],
       "datasetInfos": [],
       "dbfsResultPath": null,
       "isJsonSchema": true,
       "metadata": {},
       "overflow": false,
       "plotOptions": {
        "customPlotOptions": {},
        "displayType": "table",
        "pivotAggregation": null,
        "pivotColumns": null,
        "xColumns": null,
        "yColumns": null
       },
       "removedWidgets": [],
       "schema": [
        {
         "metadata": "{}",
         "name": "customer_id",
         "type": "\"integer\""
        },
        {
         "metadata": "{}",
         "name": "customer_name",
         "type": "\"string\""
        },
        {
         "metadata": "{}",
         "name": "customer_address",
         "type": "\"string\""
        },
        {
         "metadata": "{}",
         "name": "phone_number",
         "type": "\"string\""
        },
        {
         "metadata": "{}",
         "name": "email",
         "type": "\"string\""
        },
        {
         "metadata": "{\"__detected_date_formats\":\"yyyy-M-d\"}",
         "name": "valid_from",
         "type": "\"date\""
        },
        {
         "metadata": "{\"__detected_date_formats\":\"yyyy-M-d\"}",
         "name": "valid_to",
         "type": "\"date\""
        }
       ],
       "type": "table"
      }
     },
     "output_type": "display_data"
    }
   ],
   "source": [
    "# Read the customer SCD table and display all data\n",
    "# customer_scd_df = spark.read.format(\"delta\").table(\"gds_de_bootcamp.default.customer_scd\")\n",
    "# display(customer_scd_df)"
   ]
  },
  {
   "cell_type": "code",
   "execution_count": 0,
   "metadata": {
    "application/vnd.databricks.v1+cell": {
     "cellMetadata": {},
     "inputWidgets": {},
     "nuid": "10f7a0b0-fadd-4f09-a894-79f240170414",
     "showTitle": false,
     "title": ""
    }
   },
   "outputs": [],
   "source": []
  }
 ],
 "metadata": {
  "application/vnd.databricks.v1+notebook": {
   "dashboards": [],
   "environmentMetadata": null,
   "language": "python",
   "notebookMetadata": {
    "mostRecentlyExecutedCommandWithImplicitDF": {
     "commandId": 901566473457969,
     "dataframes": [
      "_sqldf"
     ]
    },
    "pythonIndentUnit": 4
   },
   "notebookName": "icremental_booking_data_processing",
   "widgets": {}
  }
 },
 "nbformat": 4,
 "nbformat_minor": 0
}
